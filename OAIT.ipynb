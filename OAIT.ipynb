{
 "cells": [
  {
   "cell_type": "code",
   "execution_count": 1,
   "id": "017439d6",
   "metadata": {},
   "outputs": [],
   "source": [
    "import pandas as pd\n",
    "import seaborn as sns\n",
    "import numpy as np\n",
    "import matplotlib.pyplot as plt"
   ]
  },
  {
   "cell_type": "code",
   "execution_count": 8,
   "id": "7ea84b3c",
   "metadata": {},
   "outputs": [
    {
     "data": {
      "text/html": [
       "<div>\n",
       "<style scoped>\n",
       "    .dataframe tbody tr th:only-of-type {\n",
       "        vertical-align: middle;\n",
       "    }\n",
       "\n",
       "    .dataframe tbody tr th {\n",
       "        vertical-align: top;\n",
       "    }\n",
       "\n",
       "    .dataframe thead th {\n",
       "        text-align: right;\n",
       "    }\n",
       "</style>\n",
       "<table border=\"1\" class=\"dataframe\">\n",
       "  <thead>\n",
       "    <tr style=\"text-align: right;\">\n",
       "      <th></th>\n",
       "      <th>Week</th>\n",
       "      <th>Campaign</th>\n",
       "      <th>Ad group</th>\n",
       "      <th>Keyword type</th>\n",
       "      <th>Search Keyword</th>\n",
       "      <th>Currency</th>\n",
       "      <th>Clicks</th>\n",
       "      <th>Impressions</th>\n",
       "      <th>Cost ($)</th>\n",
       "      <th>Leads</th>\n",
       "      <th>Prospects</th>\n",
       "      <th>Payment ($)</th>\n",
       "      <th>Payment Date</th>\n",
       "      <th>Country</th>\n",
       "    </tr>\n",
       "  </thead>\n",
       "  <tbody>\n",
       "    <tr>\n",
       "      <th>0</th>\n",
       "      <td>25-Jan-21</td>\n",
       "      <td>EK_Generic_Swimming</td>\n",
       "      <td>Pool_Reservation_System_Exact</td>\n",
       "      <td>Exact</td>\n",
       "      <td>pool reservation system</td>\n",
       "      <td>USD</td>\n",
       "      <td>2</td>\n",
       "      <td>17</td>\n",
       "      <td>38.33</td>\n",
       "      <td>0</td>\n",
       "      <td>1</td>\n",
       "      <td>$980</td>\n",
       "      <td>03-Feb-21</td>\n",
       "      <td>USA</td>\n",
       "    </tr>\n",
       "    <tr>\n",
       "      <th>1</th>\n",
       "      <td>25-Jan-21</td>\n",
       "      <td>EK_Generic_Swimming</td>\n",
       "      <td>Pool_Booking_App_Exact</td>\n",
       "      <td>Exact</td>\n",
       "      <td>pool booking app</td>\n",
       "      <td>USD</td>\n",
       "      <td>1</td>\n",
       "      <td>13</td>\n",
       "      <td>11.70</td>\n",
       "      <td>0</td>\n",
       "      <td>0</td>\n",
       "      <td>NaN</td>\n",
       "      <td>NaN</td>\n",
       "      <td>USA</td>\n",
       "    </tr>\n",
       "    <tr>\n",
       "      <th>2</th>\n",
       "      <td>25-Jan-21</td>\n",
       "      <td>EK_Generic_Quad-Tok_Yoga</td>\n",
       "      <td>Yoga_Studio_Booking_Software_Broad</td>\n",
       "      <td>Broad</td>\n",
       "      <td>yoga studio booking software</td>\n",
       "      <td>USD</td>\n",
       "      <td>4</td>\n",
       "      <td>154</td>\n",
       "      <td>45.13</td>\n",
       "      <td>0</td>\n",
       "      <td>1</td>\n",
       "      <td>$1,188</td>\n",
       "      <td>13-Mar-21</td>\n",
       "      <td>USA</td>\n",
       "    </tr>\n",
       "    <tr>\n",
       "      <th>3</th>\n",
       "      <td>25-Jan-21</td>\n",
       "      <td>EK_Generic_Swimming</td>\n",
       "      <td>Pool_Scheduling_Software_Phrase</td>\n",
       "      <td>Phrase</td>\n",
       "      <td>pool scheduling software</td>\n",
       "      <td>USD</td>\n",
       "      <td>2</td>\n",
       "      <td>8</td>\n",
       "      <td>23.91</td>\n",
       "      <td>0</td>\n",
       "      <td>0</td>\n",
       "      <td>NaN</td>\n",
       "      <td>NaN</td>\n",
       "      <td>USA</td>\n",
       "    </tr>\n",
       "    <tr>\n",
       "      <th>4</th>\n",
       "      <td>25-Jan-21</td>\n",
       "      <td>EK_Generic_Swimming_UK</td>\n",
       "      <td>Pool_Reservation_Software_Broad</td>\n",
       "      <td>Broad</td>\n",
       "      <td>pool reservation software</td>\n",
       "      <td>USD</td>\n",
       "      <td>2</td>\n",
       "      <td>13</td>\n",
       "      <td>4.89</td>\n",
       "      <td>0</td>\n",
       "      <td>0</td>\n",
       "      <td>NaN</td>\n",
       "      <td>NaN</td>\n",
       "      <td>USA</td>\n",
       "    </tr>\n",
       "  </tbody>\n",
       "</table>\n",
       "</div>"
      ],
      "text/plain": [
       "        Week                  Campaign                            Ad group  \\\n",
       "0  25-Jan-21       EK_Generic_Swimming       Pool_Reservation_System_Exact   \n",
       "1  25-Jan-21       EK_Generic_Swimming              Pool_Booking_App_Exact   \n",
       "2  25-Jan-21  EK_Generic_Quad-Tok_Yoga  Yoga_Studio_Booking_Software_Broad   \n",
       "3  25-Jan-21       EK_Generic_Swimming     Pool_Scheduling_Software_Phrase   \n",
       "4  25-Jan-21    EK_Generic_Swimming_UK     Pool_Reservation_Software_Broad   \n",
       "\n",
       "  Keyword type                Search Keyword Currency  Clicks  Impressions  \\\n",
       "0        Exact       pool reservation system      USD       2           17   \n",
       "1        Exact              pool booking app      USD       1           13   \n",
       "2        Broad  yoga studio booking software      USD       4          154   \n",
       "3       Phrase      pool scheduling software      USD       2            8   \n",
       "4        Broad     pool reservation software      USD       2           13   \n",
       "\n",
       "   Cost ($)  Leads  Prospects Payment ($) Payment Date Country  \n",
       "0     38.33      0          1        $980    03-Feb-21     USA  \n",
       "1     11.70      0          0         NaN          NaN     USA  \n",
       "2     45.13      0          1      $1,188    13-Mar-21     USA  \n",
       "3     23.91      0          0         NaN          NaN     USA  \n",
       "4      4.89      0          0         NaN          NaN     USA  "
      ]
     },
     "execution_count": 8,
     "metadata": {},
     "output_type": "execute_result"
    }
   ],
   "source": [
    "ads = pd.read_csv('OAIT.csv')\n",
    "ads.head()"
   ]
  },
  {
   "cell_type": "code",
   "execution_count": null,
   "id": "10dd891b",
   "metadata": {},
   "outputs": [],
   "source": []
  },
  {
   "cell_type": "markdown",
   "id": "83d7e97d",
   "metadata": {},
   "source": [
    "## Checking for missing values"
   ]
  },
  {
   "cell_type": "code",
   "execution_count": 9,
   "id": "1e09da36",
   "metadata": {},
   "outputs": [
    {
     "data": {
      "text/plain": [
       "Week                0\n",
       "Campaign            0\n",
       "Ad group            0\n",
       "Keyword type        0\n",
       "Search Keyword      0\n",
       "Currency            0\n",
       "Clicks              0\n",
       "Impressions         0\n",
       "Cost ($)            0\n",
       "Leads               0\n",
       "Prospects           0\n",
       "Payment ($)       410\n",
       "Payment Date      410\n",
       "Country             0\n",
       "dtype: int64"
      ]
     },
     "execution_count": 9,
     "metadata": {},
     "output_type": "execute_result"
    }
   ],
   "source": [
    "ads.isnull().sum()"
   ]
  },
  {
   "cell_type": "markdown",
   "id": "942c0b9a",
   "metadata": {},
   "source": [
    "## We Find that there are 410 missing values in both Payment and Payment Date\n",
    "## While analysing the data we find that both payment and payment date are irrelevant to the objective to be solved. \n",
    "## Hence we drop the columns having the most number of missing values"
   ]
  },
  {
   "cell_type": "code",
   "execution_count": 14,
   "id": "321a159e",
   "metadata": {},
   "outputs": [],
   "source": [
    "ads.drop(columns ={'Payment ($)','Payment Date'},inplace = True)"
   ]
  },
  {
   "cell_type": "code",
   "execution_count": 15,
   "id": "930a5a9d",
   "metadata": {},
   "outputs": [
    {
     "data": {
      "text/html": [
       "<div>\n",
       "<style scoped>\n",
       "    .dataframe tbody tr th:only-of-type {\n",
       "        vertical-align: middle;\n",
       "    }\n",
       "\n",
       "    .dataframe tbody tr th {\n",
       "        vertical-align: top;\n",
       "    }\n",
       "\n",
       "    .dataframe thead th {\n",
       "        text-align: right;\n",
       "    }\n",
       "</style>\n",
       "<table border=\"1\" class=\"dataframe\">\n",
       "  <thead>\n",
       "    <tr style=\"text-align: right;\">\n",
       "      <th></th>\n",
       "      <th>Week</th>\n",
       "      <th>Campaign</th>\n",
       "      <th>Ad group</th>\n",
       "      <th>Keyword type</th>\n",
       "      <th>Search Keyword</th>\n",
       "      <th>Currency</th>\n",
       "      <th>Clicks</th>\n",
       "      <th>Impressions</th>\n",
       "      <th>Cost ($)</th>\n",
       "      <th>Leads</th>\n",
       "      <th>Prospects</th>\n",
       "      <th>Country</th>\n",
       "    </tr>\n",
       "  </thead>\n",
       "  <tbody>\n",
       "    <tr>\n",
       "      <th>0</th>\n",
       "      <td>25-Jan-21</td>\n",
       "      <td>EK_Generic_Swimming</td>\n",
       "      <td>Pool_Reservation_System_Exact</td>\n",
       "      <td>Exact</td>\n",
       "      <td>pool reservation system</td>\n",
       "      <td>USD</td>\n",
       "      <td>2</td>\n",
       "      <td>17</td>\n",
       "      <td>38.33</td>\n",
       "      <td>0</td>\n",
       "      <td>1</td>\n",
       "      <td>USA</td>\n",
       "    </tr>\n",
       "    <tr>\n",
       "      <th>1</th>\n",
       "      <td>25-Jan-21</td>\n",
       "      <td>EK_Generic_Swimming</td>\n",
       "      <td>Pool_Booking_App_Exact</td>\n",
       "      <td>Exact</td>\n",
       "      <td>pool booking app</td>\n",
       "      <td>USD</td>\n",
       "      <td>1</td>\n",
       "      <td>13</td>\n",
       "      <td>11.70</td>\n",
       "      <td>0</td>\n",
       "      <td>0</td>\n",
       "      <td>USA</td>\n",
       "    </tr>\n",
       "    <tr>\n",
       "      <th>2</th>\n",
       "      <td>25-Jan-21</td>\n",
       "      <td>EK_Generic_Quad-Tok_Yoga</td>\n",
       "      <td>Yoga_Studio_Booking_Software_Broad</td>\n",
       "      <td>Broad</td>\n",
       "      <td>yoga studio booking software</td>\n",
       "      <td>USD</td>\n",
       "      <td>4</td>\n",
       "      <td>154</td>\n",
       "      <td>45.13</td>\n",
       "      <td>0</td>\n",
       "      <td>1</td>\n",
       "      <td>USA</td>\n",
       "    </tr>\n",
       "    <tr>\n",
       "      <th>3</th>\n",
       "      <td>25-Jan-21</td>\n",
       "      <td>EK_Generic_Swimming</td>\n",
       "      <td>Pool_Scheduling_Software_Phrase</td>\n",
       "      <td>Phrase</td>\n",
       "      <td>pool scheduling software</td>\n",
       "      <td>USD</td>\n",
       "      <td>2</td>\n",
       "      <td>8</td>\n",
       "      <td>23.91</td>\n",
       "      <td>0</td>\n",
       "      <td>0</td>\n",
       "      <td>USA</td>\n",
       "    </tr>\n",
       "    <tr>\n",
       "      <th>4</th>\n",
       "      <td>25-Jan-21</td>\n",
       "      <td>EK_Generic_Swimming_UK</td>\n",
       "      <td>Pool_Reservation_Software_Broad</td>\n",
       "      <td>Broad</td>\n",
       "      <td>pool reservation software</td>\n",
       "      <td>USD</td>\n",
       "      <td>2</td>\n",
       "      <td>13</td>\n",
       "      <td>4.89</td>\n",
       "      <td>0</td>\n",
       "      <td>0</td>\n",
       "      <td>USA</td>\n",
       "    </tr>\n",
       "  </tbody>\n",
       "</table>\n",
       "</div>"
      ],
      "text/plain": [
       "        Week                  Campaign                            Ad group  \\\n",
       "0  25-Jan-21       EK_Generic_Swimming       Pool_Reservation_System_Exact   \n",
       "1  25-Jan-21       EK_Generic_Swimming              Pool_Booking_App_Exact   \n",
       "2  25-Jan-21  EK_Generic_Quad-Tok_Yoga  Yoga_Studio_Booking_Software_Broad   \n",
       "3  25-Jan-21       EK_Generic_Swimming     Pool_Scheduling_Software_Phrase   \n",
       "4  25-Jan-21    EK_Generic_Swimming_UK     Pool_Reservation_Software_Broad   \n",
       "\n",
       "  Keyword type                Search Keyword Currency  Clicks  Impressions  \\\n",
       "0        Exact       pool reservation system      USD       2           17   \n",
       "1        Exact              pool booking app      USD       1           13   \n",
       "2        Broad  yoga studio booking software      USD       4          154   \n",
       "3       Phrase      pool scheduling software      USD       2            8   \n",
       "4        Broad     pool reservation software      USD       2           13   \n",
       "\n",
       "   Cost ($)  Leads  Prospects Country  \n",
       "0     38.33      0          1     USA  \n",
       "1     11.70      0          0     USA  \n",
       "2     45.13      0          1     USA  \n",
       "3     23.91      0          0     USA  \n",
       "4      4.89      0          0     USA  "
      ]
     },
     "execution_count": 15,
     "metadata": {},
     "output_type": "execute_result"
    }
   ],
   "source": [
    "ads.head()"
   ]
  },
  {
   "cell_type": "markdown",
   "id": "ea0d9cd8",
   "metadata": {},
   "source": [
    "## Now we check for columns that are irrelevant to the objective"
   ]
  },
  {
   "cell_type": "code",
   "execution_count": 16,
   "id": "a6e2632f",
   "metadata": {},
   "outputs": [
    {
     "data": {
      "text/plain": [
       "array(['USD'], dtype=object)"
      ]
     },
     "execution_count": 16,
     "metadata": {},
     "output_type": "execute_result"
    }
   ],
   "source": [
    "ads.Currency.unique()"
   ]
  },
  {
   "cell_type": "code",
   "execution_count": 17,
   "id": "994ab92c",
   "metadata": {},
   "outputs": [
    {
     "data": {
      "text/plain": [
       "array(['USA'], dtype=object)"
      ]
     },
     "execution_count": 17,
     "metadata": {},
     "output_type": "execute_result"
    }
   ],
   "source": [
    "ads.Country.unique()"
   ]
  },
  {
   "cell_type": "code",
   "execution_count": 18,
   "id": "0615f316",
   "metadata": {},
   "outputs": [],
   "source": [
    "ads.drop(columns={'Currency','Country'},inplace = True)"
   ]
  },
  {
   "cell_type": "code",
   "execution_count": 19,
   "id": "12683a47",
   "metadata": {},
   "outputs": [
    {
     "data": {
      "text/html": [
       "<div>\n",
       "<style scoped>\n",
       "    .dataframe tbody tr th:only-of-type {\n",
       "        vertical-align: middle;\n",
       "    }\n",
       "\n",
       "    .dataframe tbody tr th {\n",
       "        vertical-align: top;\n",
       "    }\n",
       "\n",
       "    .dataframe thead th {\n",
       "        text-align: right;\n",
       "    }\n",
       "</style>\n",
       "<table border=\"1\" class=\"dataframe\">\n",
       "  <thead>\n",
       "    <tr style=\"text-align: right;\">\n",
       "      <th></th>\n",
       "      <th>Week</th>\n",
       "      <th>Campaign</th>\n",
       "      <th>Ad group</th>\n",
       "      <th>Keyword type</th>\n",
       "      <th>Search Keyword</th>\n",
       "      <th>Clicks</th>\n",
       "      <th>Impressions</th>\n",
       "      <th>Cost ($)</th>\n",
       "      <th>Leads</th>\n",
       "      <th>Prospects</th>\n",
       "    </tr>\n",
       "  </thead>\n",
       "  <tbody>\n",
       "    <tr>\n",
       "      <th>0</th>\n",
       "      <td>25-Jan-21</td>\n",
       "      <td>EK_Generic_Swimming</td>\n",
       "      <td>Pool_Reservation_System_Exact</td>\n",
       "      <td>Exact</td>\n",
       "      <td>pool reservation system</td>\n",
       "      <td>2</td>\n",
       "      <td>17</td>\n",
       "      <td>38.33</td>\n",
       "      <td>0</td>\n",
       "      <td>1</td>\n",
       "    </tr>\n",
       "    <tr>\n",
       "      <th>1</th>\n",
       "      <td>25-Jan-21</td>\n",
       "      <td>EK_Generic_Swimming</td>\n",
       "      <td>Pool_Booking_App_Exact</td>\n",
       "      <td>Exact</td>\n",
       "      <td>pool booking app</td>\n",
       "      <td>1</td>\n",
       "      <td>13</td>\n",
       "      <td>11.70</td>\n",
       "      <td>0</td>\n",
       "      <td>0</td>\n",
       "    </tr>\n",
       "    <tr>\n",
       "      <th>2</th>\n",
       "      <td>25-Jan-21</td>\n",
       "      <td>EK_Generic_Quad-Tok_Yoga</td>\n",
       "      <td>Yoga_Studio_Booking_Software_Broad</td>\n",
       "      <td>Broad</td>\n",
       "      <td>yoga studio booking software</td>\n",
       "      <td>4</td>\n",
       "      <td>154</td>\n",
       "      <td>45.13</td>\n",
       "      <td>0</td>\n",
       "      <td>1</td>\n",
       "    </tr>\n",
       "    <tr>\n",
       "      <th>3</th>\n",
       "      <td>25-Jan-21</td>\n",
       "      <td>EK_Generic_Swimming</td>\n",
       "      <td>Pool_Scheduling_Software_Phrase</td>\n",
       "      <td>Phrase</td>\n",
       "      <td>pool scheduling software</td>\n",
       "      <td>2</td>\n",
       "      <td>8</td>\n",
       "      <td>23.91</td>\n",
       "      <td>0</td>\n",
       "      <td>0</td>\n",
       "    </tr>\n",
       "    <tr>\n",
       "      <th>4</th>\n",
       "      <td>25-Jan-21</td>\n",
       "      <td>EK_Generic_Swimming_UK</td>\n",
       "      <td>Pool_Reservation_Software_Broad</td>\n",
       "      <td>Broad</td>\n",
       "      <td>pool reservation software</td>\n",
       "      <td>2</td>\n",
       "      <td>13</td>\n",
       "      <td>4.89</td>\n",
       "      <td>0</td>\n",
       "      <td>0</td>\n",
       "    </tr>\n",
       "  </tbody>\n",
       "</table>\n",
       "</div>"
      ],
      "text/plain": [
       "        Week                  Campaign                            Ad group  \\\n",
       "0  25-Jan-21       EK_Generic_Swimming       Pool_Reservation_System_Exact   \n",
       "1  25-Jan-21       EK_Generic_Swimming              Pool_Booking_App_Exact   \n",
       "2  25-Jan-21  EK_Generic_Quad-Tok_Yoga  Yoga_Studio_Booking_Software_Broad   \n",
       "3  25-Jan-21       EK_Generic_Swimming     Pool_Scheduling_Software_Phrase   \n",
       "4  25-Jan-21    EK_Generic_Swimming_UK     Pool_Reservation_Software_Broad   \n",
       "\n",
       "  Keyword type                Search Keyword  Clicks  Impressions  Cost ($)  \\\n",
       "0        Exact       pool reservation system       2           17     38.33   \n",
       "1        Exact              pool booking app       1           13     11.70   \n",
       "2        Broad  yoga studio booking software       4          154     45.13   \n",
       "3       Phrase      pool scheduling software       2            8     23.91   \n",
       "4        Broad     pool reservation software       2           13      4.89   \n",
       "\n",
       "   Leads  Prospects  \n",
       "0      0          1  \n",
       "1      0          0  \n",
       "2      0          1  \n",
       "3      0          0  \n",
       "4      0          0  "
      ]
     },
     "execution_count": 19,
     "metadata": {},
     "output_type": "execute_result"
    }
   ],
   "source": [
    "ads.head()"
   ]
  },
  {
   "cell_type": "code",
   "execution_count": 22,
   "id": "2ac02b6e",
   "metadata": {},
   "outputs": [],
   "source": [
    "#Renaimg the relevant columns for convenience \n",
    "\n",
    "ads.rename(columns={'Ad group':'Ad_group','Keyword type':'Keyword_type','Search Keyword':'Search_keyword','Cost ($)':'Cost'},inplace =True)\n"
   ]
  },
  {
   "cell_type": "code",
   "execution_count": 23,
   "id": "0b14e92c",
   "metadata": {},
   "outputs": [
    {
     "data": {
      "text/html": [
       "<div>\n",
       "<style scoped>\n",
       "    .dataframe tbody tr th:only-of-type {\n",
       "        vertical-align: middle;\n",
       "    }\n",
       "\n",
       "    .dataframe tbody tr th {\n",
       "        vertical-align: top;\n",
       "    }\n",
       "\n",
       "    .dataframe thead th {\n",
       "        text-align: right;\n",
       "    }\n",
       "</style>\n",
       "<table border=\"1\" class=\"dataframe\">\n",
       "  <thead>\n",
       "    <tr style=\"text-align: right;\">\n",
       "      <th></th>\n",
       "      <th>Week</th>\n",
       "      <th>Campaign</th>\n",
       "      <th>Ad_group</th>\n",
       "      <th>Keyword_type</th>\n",
       "      <th>Search_keyword</th>\n",
       "      <th>Clicks</th>\n",
       "      <th>Impressions</th>\n",
       "      <th>Cost</th>\n",
       "      <th>Leads</th>\n",
       "      <th>Prospects</th>\n",
       "    </tr>\n",
       "  </thead>\n",
       "  <tbody>\n",
       "    <tr>\n",
       "      <th>0</th>\n",
       "      <td>25-Jan-21</td>\n",
       "      <td>EK_Generic_Swimming</td>\n",
       "      <td>Pool_Reservation_System_Exact</td>\n",
       "      <td>Exact</td>\n",
       "      <td>pool reservation system</td>\n",
       "      <td>2</td>\n",
       "      <td>17</td>\n",
       "      <td>38.33</td>\n",
       "      <td>0</td>\n",
       "      <td>1</td>\n",
       "    </tr>\n",
       "    <tr>\n",
       "      <th>1</th>\n",
       "      <td>25-Jan-21</td>\n",
       "      <td>EK_Generic_Swimming</td>\n",
       "      <td>Pool_Booking_App_Exact</td>\n",
       "      <td>Exact</td>\n",
       "      <td>pool booking app</td>\n",
       "      <td>1</td>\n",
       "      <td>13</td>\n",
       "      <td>11.70</td>\n",
       "      <td>0</td>\n",
       "      <td>0</td>\n",
       "    </tr>\n",
       "    <tr>\n",
       "      <th>2</th>\n",
       "      <td>25-Jan-21</td>\n",
       "      <td>EK_Generic_Quad-Tok_Yoga</td>\n",
       "      <td>Yoga_Studio_Booking_Software_Broad</td>\n",
       "      <td>Broad</td>\n",
       "      <td>yoga studio booking software</td>\n",
       "      <td>4</td>\n",
       "      <td>154</td>\n",
       "      <td>45.13</td>\n",
       "      <td>0</td>\n",
       "      <td>1</td>\n",
       "    </tr>\n",
       "    <tr>\n",
       "      <th>3</th>\n",
       "      <td>25-Jan-21</td>\n",
       "      <td>EK_Generic_Swimming</td>\n",
       "      <td>Pool_Scheduling_Software_Phrase</td>\n",
       "      <td>Phrase</td>\n",
       "      <td>pool scheduling software</td>\n",
       "      <td>2</td>\n",
       "      <td>8</td>\n",
       "      <td>23.91</td>\n",
       "      <td>0</td>\n",
       "      <td>0</td>\n",
       "    </tr>\n",
       "    <tr>\n",
       "      <th>4</th>\n",
       "      <td>25-Jan-21</td>\n",
       "      <td>EK_Generic_Swimming_UK</td>\n",
       "      <td>Pool_Reservation_Software_Broad</td>\n",
       "      <td>Broad</td>\n",
       "      <td>pool reservation software</td>\n",
       "      <td>2</td>\n",
       "      <td>13</td>\n",
       "      <td>4.89</td>\n",
       "      <td>0</td>\n",
       "      <td>0</td>\n",
       "    </tr>\n",
       "  </tbody>\n",
       "</table>\n",
       "</div>"
      ],
      "text/plain": [
       "        Week                  Campaign                            Ad_group  \\\n",
       "0  25-Jan-21       EK_Generic_Swimming       Pool_Reservation_System_Exact   \n",
       "1  25-Jan-21       EK_Generic_Swimming              Pool_Booking_App_Exact   \n",
       "2  25-Jan-21  EK_Generic_Quad-Tok_Yoga  Yoga_Studio_Booking_Software_Broad   \n",
       "3  25-Jan-21       EK_Generic_Swimming     Pool_Scheduling_Software_Phrase   \n",
       "4  25-Jan-21    EK_Generic_Swimming_UK     Pool_Reservation_Software_Broad   \n",
       "\n",
       "  Keyword_type                Search_keyword  Clicks  Impressions   Cost  \\\n",
       "0        Exact       pool reservation system       2           17  38.33   \n",
       "1        Exact              pool booking app       1           13  11.70   \n",
       "2        Broad  yoga studio booking software       4          154  45.13   \n",
       "3       Phrase      pool scheduling software       2            8  23.91   \n",
       "4        Broad     pool reservation software       2           13   4.89   \n",
       "\n",
       "   Leads  Prospects  \n",
       "0      0          1  \n",
       "1      0          0  \n",
       "2      0          1  \n",
       "3      0          0  \n",
       "4      0          0  "
      ]
     },
     "execution_count": 23,
     "metadata": {},
     "output_type": "execute_result"
    }
   ],
   "source": [
    "ads.head()"
   ]
  },
  {
   "cell_type": "markdown",
   "id": "759d70ce",
   "metadata": {},
   "source": [
    "## To know the profit of channel wise we have to calculate CTR ( Click Through Rate ) and CPC ( Cost Per Click )"
   ]
  },
  {
   "cell_type": "markdown",
   "id": "f8e40627",
   "metadata": {},
   "source": [
    "## CTR = ( Clicks / Impression )*100\n",
    "## CPC = Cost / Clicks"
   ]
  },
  {
   "cell_type": "code",
   "execution_count": 24,
   "id": "ec851ece",
   "metadata": {},
   "outputs": [
    {
     "data": {
      "text/html": [
       "<div>\n",
       "<style scoped>\n",
       "    .dataframe tbody tr th:only-of-type {\n",
       "        vertical-align: middle;\n",
       "    }\n",
       "\n",
       "    .dataframe tbody tr th {\n",
       "        vertical-align: top;\n",
       "    }\n",
       "\n",
       "    .dataframe thead th {\n",
       "        text-align: right;\n",
       "    }\n",
       "</style>\n",
       "<table border=\"1\" class=\"dataframe\">\n",
       "  <thead>\n",
       "    <tr style=\"text-align: right;\">\n",
       "      <th></th>\n",
       "      <th>Week</th>\n",
       "      <th>Campaign</th>\n",
       "      <th>Ad_group</th>\n",
       "      <th>Keyword_type</th>\n",
       "      <th>Search_keyword</th>\n",
       "      <th>Clicks</th>\n",
       "      <th>Impressions</th>\n",
       "      <th>Cost</th>\n",
       "      <th>Leads</th>\n",
       "      <th>Prospects</th>\n",
       "      <th>CTR</th>\n",
       "    </tr>\n",
       "  </thead>\n",
       "  <tbody>\n",
       "    <tr>\n",
       "      <th>0</th>\n",
       "      <td>25-Jan-21</td>\n",
       "      <td>EK_Generic_Swimming</td>\n",
       "      <td>Pool_Reservation_System_Exact</td>\n",
       "      <td>Exact</td>\n",
       "      <td>pool reservation system</td>\n",
       "      <td>2</td>\n",
       "      <td>17</td>\n",
       "      <td>38.33</td>\n",
       "      <td>0</td>\n",
       "      <td>1</td>\n",
       "      <td>11.764706</td>\n",
       "    </tr>\n",
       "    <tr>\n",
       "      <th>1</th>\n",
       "      <td>25-Jan-21</td>\n",
       "      <td>EK_Generic_Swimming</td>\n",
       "      <td>Pool_Booking_App_Exact</td>\n",
       "      <td>Exact</td>\n",
       "      <td>pool booking app</td>\n",
       "      <td>1</td>\n",
       "      <td>13</td>\n",
       "      <td>11.70</td>\n",
       "      <td>0</td>\n",
       "      <td>0</td>\n",
       "      <td>7.692308</td>\n",
       "    </tr>\n",
       "    <tr>\n",
       "      <th>2</th>\n",
       "      <td>25-Jan-21</td>\n",
       "      <td>EK_Generic_Quad-Tok_Yoga</td>\n",
       "      <td>Yoga_Studio_Booking_Software_Broad</td>\n",
       "      <td>Broad</td>\n",
       "      <td>yoga studio booking software</td>\n",
       "      <td>4</td>\n",
       "      <td>154</td>\n",
       "      <td>45.13</td>\n",
       "      <td>0</td>\n",
       "      <td>1</td>\n",
       "      <td>2.597403</td>\n",
       "    </tr>\n",
       "    <tr>\n",
       "      <th>3</th>\n",
       "      <td>25-Jan-21</td>\n",
       "      <td>EK_Generic_Swimming</td>\n",
       "      <td>Pool_Scheduling_Software_Phrase</td>\n",
       "      <td>Phrase</td>\n",
       "      <td>pool scheduling software</td>\n",
       "      <td>2</td>\n",
       "      <td>8</td>\n",
       "      <td>23.91</td>\n",
       "      <td>0</td>\n",
       "      <td>0</td>\n",
       "      <td>25.000000</td>\n",
       "    </tr>\n",
       "    <tr>\n",
       "      <th>4</th>\n",
       "      <td>25-Jan-21</td>\n",
       "      <td>EK_Generic_Swimming_UK</td>\n",
       "      <td>Pool_Reservation_Software_Broad</td>\n",
       "      <td>Broad</td>\n",
       "      <td>pool reservation software</td>\n",
       "      <td>2</td>\n",
       "      <td>13</td>\n",
       "      <td>4.89</td>\n",
       "      <td>0</td>\n",
       "      <td>0</td>\n",
       "      <td>15.384615</td>\n",
       "    </tr>\n",
       "  </tbody>\n",
       "</table>\n",
       "</div>"
      ],
      "text/plain": [
       "        Week                  Campaign                            Ad_group  \\\n",
       "0  25-Jan-21       EK_Generic_Swimming       Pool_Reservation_System_Exact   \n",
       "1  25-Jan-21       EK_Generic_Swimming              Pool_Booking_App_Exact   \n",
       "2  25-Jan-21  EK_Generic_Quad-Tok_Yoga  Yoga_Studio_Booking_Software_Broad   \n",
       "3  25-Jan-21       EK_Generic_Swimming     Pool_Scheduling_Software_Phrase   \n",
       "4  25-Jan-21    EK_Generic_Swimming_UK     Pool_Reservation_Software_Broad   \n",
       "\n",
       "  Keyword_type                Search_keyword  Clicks  Impressions   Cost  \\\n",
       "0        Exact       pool reservation system       2           17  38.33   \n",
       "1        Exact              pool booking app       1           13  11.70   \n",
       "2        Broad  yoga studio booking software       4          154  45.13   \n",
       "3       Phrase      pool scheduling software       2            8  23.91   \n",
       "4        Broad     pool reservation software       2           13   4.89   \n",
       "\n",
       "   Leads  Prospects        CTR  \n",
       "0      0          1  11.764706  \n",
       "1      0          0   7.692308  \n",
       "2      0          1   2.597403  \n",
       "3      0          0  25.000000  \n",
       "4      0          0  15.384615  "
      ]
     },
     "execution_count": 24,
     "metadata": {},
     "output_type": "execute_result"
    }
   ],
   "source": [
    "c = ads['Clicks']\n",
    "i = ads['Impressions']\n",
    "ads['CTR']= (c/i)*100\n",
    "ads.head()"
   ]
  },
  {
   "cell_type": "code",
   "execution_count": 32,
   "id": "8c1c6768",
   "metadata": {},
   "outputs": [
    {
     "data": {
      "text/html": [
       "<div>\n",
       "<style scoped>\n",
       "    .dataframe tbody tr th:only-of-type {\n",
       "        vertical-align: middle;\n",
       "    }\n",
       "\n",
       "    .dataframe tbody tr th {\n",
       "        vertical-align: top;\n",
       "    }\n",
       "\n",
       "    .dataframe thead th {\n",
       "        text-align: right;\n",
       "    }\n",
       "</style>\n",
       "<table border=\"1\" class=\"dataframe\">\n",
       "  <thead>\n",
       "    <tr style=\"text-align: right;\">\n",
       "      <th></th>\n",
       "      <th>Week</th>\n",
       "      <th>Campaign</th>\n",
       "      <th>Ad_group</th>\n",
       "      <th>Keyword_type</th>\n",
       "      <th>Search_keyword</th>\n",
       "      <th>Clicks</th>\n",
       "      <th>Impressions</th>\n",
       "      <th>Cost</th>\n",
       "      <th>Leads</th>\n",
       "      <th>Prospects</th>\n",
       "      <th>CTR</th>\n",
       "      <th>CPC</th>\n",
       "    </tr>\n",
       "  </thead>\n",
       "  <tbody>\n",
       "    <tr>\n",
       "      <th>0</th>\n",
       "      <td>25-Jan-21</td>\n",
       "      <td>EK_Generic_Swimming</td>\n",
       "      <td>Pool_Reservation_System_Exact</td>\n",
       "      <td>Exact</td>\n",
       "      <td>pool reservation system</td>\n",
       "      <td>2</td>\n",
       "      <td>17</td>\n",
       "      <td>38.33</td>\n",
       "      <td>0</td>\n",
       "      <td>1</td>\n",
       "      <td>11.764706</td>\n",
       "      <td>19.1650</td>\n",
       "    </tr>\n",
       "    <tr>\n",
       "      <th>1</th>\n",
       "      <td>25-Jan-21</td>\n",
       "      <td>EK_Generic_Swimming</td>\n",
       "      <td>Pool_Booking_App_Exact</td>\n",
       "      <td>Exact</td>\n",
       "      <td>pool booking app</td>\n",
       "      <td>1</td>\n",
       "      <td>13</td>\n",
       "      <td>11.70</td>\n",
       "      <td>0</td>\n",
       "      <td>0</td>\n",
       "      <td>7.692308</td>\n",
       "      <td>11.7000</td>\n",
       "    </tr>\n",
       "    <tr>\n",
       "      <th>2</th>\n",
       "      <td>25-Jan-21</td>\n",
       "      <td>EK_Generic_Quad-Tok_Yoga</td>\n",
       "      <td>Yoga_Studio_Booking_Software_Broad</td>\n",
       "      <td>Broad</td>\n",
       "      <td>yoga studio booking software</td>\n",
       "      <td>4</td>\n",
       "      <td>154</td>\n",
       "      <td>45.13</td>\n",
       "      <td>0</td>\n",
       "      <td>1</td>\n",
       "      <td>2.597403</td>\n",
       "      <td>11.2825</td>\n",
       "    </tr>\n",
       "    <tr>\n",
       "      <th>3</th>\n",
       "      <td>25-Jan-21</td>\n",
       "      <td>EK_Generic_Swimming</td>\n",
       "      <td>Pool_Scheduling_Software_Phrase</td>\n",
       "      <td>Phrase</td>\n",
       "      <td>pool scheduling software</td>\n",
       "      <td>2</td>\n",
       "      <td>8</td>\n",
       "      <td>23.91</td>\n",
       "      <td>0</td>\n",
       "      <td>0</td>\n",
       "      <td>25.000000</td>\n",
       "      <td>11.9550</td>\n",
       "    </tr>\n",
       "    <tr>\n",
       "      <th>4</th>\n",
       "      <td>25-Jan-21</td>\n",
       "      <td>EK_Generic_Swimming_UK</td>\n",
       "      <td>Pool_Reservation_Software_Broad</td>\n",
       "      <td>Broad</td>\n",
       "      <td>pool reservation software</td>\n",
       "      <td>2</td>\n",
       "      <td>13</td>\n",
       "      <td>4.89</td>\n",
       "      <td>0</td>\n",
       "      <td>0</td>\n",
       "      <td>15.384615</td>\n",
       "      <td>2.4450</td>\n",
       "    </tr>\n",
       "  </tbody>\n",
       "</table>\n",
       "</div>"
      ],
      "text/plain": [
       "        Week                  Campaign                            Ad_group  \\\n",
       "0  25-Jan-21       EK_Generic_Swimming       Pool_Reservation_System_Exact   \n",
       "1  25-Jan-21       EK_Generic_Swimming              Pool_Booking_App_Exact   \n",
       "2  25-Jan-21  EK_Generic_Quad-Tok_Yoga  Yoga_Studio_Booking_Software_Broad   \n",
       "3  25-Jan-21       EK_Generic_Swimming     Pool_Scheduling_Software_Phrase   \n",
       "4  25-Jan-21    EK_Generic_Swimming_UK     Pool_Reservation_Software_Broad   \n",
       "\n",
       "  Keyword_type                Search_keyword  Clicks  Impressions   Cost  \\\n",
       "0        Exact       pool reservation system       2           17  38.33   \n",
       "1        Exact              pool booking app       1           13  11.70   \n",
       "2        Broad  yoga studio booking software       4          154  45.13   \n",
       "3       Phrase      pool scheduling software       2            8  23.91   \n",
       "4        Broad     pool reservation software       2           13   4.89   \n",
       "\n",
       "   Leads  Prospects        CTR      CPC  \n",
       "0      0          1  11.764706  19.1650  \n",
       "1      0          0   7.692308  11.7000  \n",
       "2      0          1   2.597403  11.2825  \n",
       "3      0          0  25.000000  11.9550  \n",
       "4      0          0  15.384615   2.4450  "
      ]
     },
     "execution_count": 32,
     "metadata": {},
     "output_type": "execute_result"
    }
   ],
   "source": [
    "co = ads['Cost']\n",
    "ads['CPC']= co/c\n",
    "ads.head()"
   ]
  },
  {
   "cell_type": "markdown",
   "id": "6db58869",
   "metadata": {},
   "source": [
    "## We have now found out CPC and CTR from the given data.\n",
    "\n",
    "## The Higher the CTR, the more profitable the channel is.\n",
    "\n",
    "## The Lower the CPC , the better performance of the channel.\n",
    "\n",
    "## We can check for null values in the newly added columns."
   ]
  },
  {
   "cell_type": "code",
   "execution_count": 27,
   "id": "75687dd9",
   "metadata": {},
   "outputs": [
    {
     "data": {
      "text/plain": [
       "Week                0\n",
       "Campaign            0\n",
       "Ad_group            0\n",
       "Keyword_type        0\n",
       "Search_keyword      0\n",
       "Clicks              0\n",
       "Impressions         0\n",
       "Cost                0\n",
       "Leads               0\n",
       "Prospects           0\n",
       "CTR                64\n",
       "CPC               263\n",
       "dtype: int64"
      ]
     },
     "execution_count": 27,
     "metadata": {},
     "output_type": "execute_result"
    }
   ],
   "source": [
    "ads.isnull().sum()"
   ]
  },
  {
   "cell_type": "markdown",
   "id": "3d28688f",
   "metadata": {},
   "source": [
    "## We find that there are 64 missing values in CTR and 263 values missing in CPC. "
   ]
  },
  {
   "cell_type": "code",
   "execution_count": 29,
   "id": "c13f6933",
   "metadata": {},
   "outputs": [
    {
     "data": {
      "text/plain": [
       "(418, 12)"
      ]
     },
     "execution_count": 29,
     "metadata": {},
     "output_type": "execute_result"
    }
   ],
   "source": [
    "ads.shape"
   ]
  },
  {
   "cell_type": "markdown",
   "id": "fe727dd4",
   "metadata": {},
   "source": [
    "## Since CTR and CPC are calculated based on the datas from Clicks, cost and impressions , we have to find the null values in those columns as well.\n",
    "\n",
    "## Since we have the missing values of CTR and CPC in Nan format , we are changing it to 0"
   ]
  },
  {
   "cell_type": "code",
   "execution_count": 34,
   "id": "517f05b7",
   "metadata": {},
   "outputs": [],
   "source": [
    "ads['CTR']= ads['CTR'].replace(np.nan, 0)"
   ]
  },
  {
   "cell_type": "code",
   "execution_count": 35,
   "id": "1103bae3",
   "metadata": {},
   "outputs": [],
   "source": [
    "ads['CPC']= ads['CPC'].replace(np.nan, 0)"
   ]
  },
  {
   "cell_type": "code",
   "execution_count": 37,
   "id": "4f07f7ea",
   "metadata": {},
   "outputs": [
    {
     "data": {
      "text/plain": [
       "Week              0\n",
       "Campaign          0\n",
       "Ad_group          0\n",
       "Keyword_type      0\n",
       "Search_keyword    0\n",
       "Clicks            0\n",
       "Impressions       0\n",
       "Cost              0\n",
       "Leads             0\n",
       "Prospects         0\n",
       "CTR               0\n",
       "CPC               0\n",
       "dtype: int64"
      ]
     },
     "execution_count": 37,
     "metadata": {},
     "output_type": "execute_result"
    }
   ],
   "source": [
    "ads.isnull().sum()"
   ]
  },
  {
   "cell_type": "markdown",
   "id": "82da0a27",
   "metadata": {},
   "source": [
    "## Now we can find that there are no Nan or missing values in any of the columns of the data."
   ]
  },
  {
   "cell_type": "markdown",
   "id": "d96b1655",
   "metadata": {},
   "source": [
    "## Checking that the data types of all the columns are correct"
   ]
  },
  {
   "cell_type": "code",
   "execution_count": 38,
   "id": "df579959",
   "metadata": {},
   "outputs": [
    {
     "data": {
      "text/plain": [
       "Week               object\n",
       "Campaign           object\n",
       "Ad_group           object\n",
       "Keyword_type       object\n",
       "Search_keyword     object\n",
       "Clicks              int64\n",
       "Impressions         int64\n",
       "Cost              float64\n",
       "Leads               int64\n",
       "Prospects           int64\n",
       "CTR               float64\n",
       "CPC               float64\n",
       "dtype: object"
      ]
     },
     "execution_count": 38,
     "metadata": {},
     "output_type": "execute_result"
    }
   ],
   "source": [
    "ads.dtypes"
   ]
  },
  {
   "cell_type": "markdown",
   "id": "aafae631",
   "metadata": {},
   "source": [
    "## We find that all the data types are properly assigned"
   ]
  },
  {
   "cell_type": "markdown",
   "id": "c47163c0",
   "metadata": {},
   "source": [
    "# Objective 1 : To create a report with all the key metrics in a weekly and monthly format."
   ]
  },
  {
   "cell_type": "markdown",
   "id": "0ecce43f",
   "metadata": {},
   "source": [
    "### Key metrics with respect to the Adsense are Clicks, Impressions, Conversion rate, Page view, Click-Through-rate (CTR), Cost-per-Click (CPC), Cost-per-Thousand(CPM), Revenue-per-Thousand Impressions ( RPM)"
   ]
  },
  {
   "cell_type": "markdown",
   "id": "10508780",
   "metadata": {},
   "source": [
    "## Here the availabe metrics are CPC, CTR, Clicks, Impressions"
   ]
  },
  {
   "cell_type": "code",
   "execution_count": 39,
   "id": "4fce8117",
   "metadata": {},
   "outputs": [
    {
     "data": {
      "text/plain": [
       "array(['25-Jan-21', '01-Feb-21', '08-Feb-21', '15-Feb-21', '22-Feb-21',\n",
       "       '01-Mar-21', '08-Mar-21', '15-Mar-21', '22-Mar-21', '29-Mar-21',\n",
       "       '05-Apr-21', '12-Apr-21', '19-Apr-21', '26-Apr-21', '03-May-21'],\n",
       "      dtype=object)"
      ]
     },
     "execution_count": 39,
     "metadata": {},
     "output_type": "execute_result"
    }
   ],
   "source": [
    "ads.Week.unique()"
   ]
  },
  {
   "cell_type": "markdown",
   "id": "f7503362",
   "metadata": {},
   "source": [
    "## Weekly Report on CPC"
   ]
  },
  {
   "cell_type": "code",
   "execution_count": 55,
   "id": "c1cc3eab",
   "metadata": {},
   "outputs": [
    {
     "data": {
      "image/png": "[encoded data removed]",
      "text/plain": [
       "<Figure size 1440x720 with 1 Axes>"
      ]
     },
     "metadata": {
      "needs_background": "light"
     },
     "output_type": "display_data"
    }
   ],
   "source": [
    "\n",
    "from matplotlib.pyplot import figure\n",
    "figure(figsize=(18, 9), dpi=80)\n",
    "plt.plot(ads['Week'],ads['CPC'])\n",
    "plt.xticks(rotation=45)\n",
    "plt.ylabel('CPC')\n",
    "plt.xlabel('Week')\n",
    "plt.show()"
   ]
  },
  {
   "cell_type": "markdown",
   "id": "a625d528",
   "metadata": {},
   "source": [
    "## Weekly Report on CTR"
   ]
  },
  {
   "cell_type": "code",
   "execution_count": 195,
   "id": "c6a5f543",
   "metadata": {
    "scrolled": true
   },
   "outputs": [
    {
     "data": {
      "image/png": "[encoded data removed]",
      "text/plain": [
       "<Figure size 1296x648 with 1 Axes>"
      ]
     },
     "metadata": {
      "needs_background": "light"
     },
     "output_type": "display_data"
    }
   ],
   "source": [
    "\n",
    "from matplotlib.pyplot import figure\n",
    "figure(figsize=(18, 9))\n",
    "plt.bar(ads['Week'],ads['CTR'])\n",
    "plt.xticks(rotation=45)\n",
    "plt.ylabel('CTR')\n",
    "plt.xlabel('Week')\n",
    "plt.show()"
   ]
  },
  {
   "cell_type": "markdown",
   "id": "9cc34b14",
   "metadata": {},
   "source": [
    "## Weekly Report on Clicks"
   ]
  },
  {
   "cell_type": "code",
   "execution_count": 193,
   "id": "be06b9a5",
   "metadata": {},
   "outputs": [
    {
     "data": {
      "image/png": "[encoded data removed]",
      "text/plain": [
       "<Figure size 1296x648 with 1 Axes>"
      ]
     },
     "metadata": {
      "needs_background": "light"
     },
     "output_type": "display_data"
    }
   ],
   "source": [
    "from matplotlib.pyplot import figure\n",
    "figure(figsize=(18, 9))\n",
    "plt.bar(ads['Week'],ads['Clicks'])\n",
    "plt.xticks(rotation=45)\n",
    "plt.ylabel('Clicks')\n",
    "plt.xlabel('Week')\n",
    "plt.show()\n"
   ]
  },
  {
   "cell_type": "markdown",
   "id": "2e6f1c1b",
   "metadata": {},
   "source": [
    "## Weekly Report on CPC"
   ]
  },
  {
   "cell_type": "code",
   "execution_count": 196,
   "id": "424befbb",
   "metadata": {},
   "outputs": [
    {
     "data": {
      "image/png": "[encoded data removed]",
      "text/plain": [
       "<Figure size 1296x648 with 1 Axes>"
      ]
     },
     "metadata": {
      "needs_background": "light"
     },
     "output_type": "display_data"
    }
   ],
   "source": [
    "from matplotlib.pyplot import figure\n",
    "figure(figsize=(18, 9))\n",
    "plt.bar(ads['Week'],ads['CPC'])\n",
    "plt.xticks(rotation=45)\n",
    "plt.ylabel('CPC')\n",
    "plt.xlabel('Week')\n",
    "plt.show()\n"
   ]
  },
  {
   "cell_type": "markdown",
   "id": "59f7e3b5",
   "metadata": {},
   "source": [
    "## Weekly Report on Impressions"
   ]
  },
  {
   "cell_type": "code",
   "execution_count": 197,
   "id": "5f2cf95f",
   "metadata": {},
   "outputs": [
    {
     "data": {
      "image/png": "[encoded data removed]",
      "text/plain": [
       "<Figure size 1296x648 with 1 Axes>"
      ]
     },
     "metadata": {
      "needs_background": "light"
     },
     "output_type": "display_data"
    }
   ],
   "source": [
    "from matplotlib.pyplot import figure\n",
    "figure(figsize=(18, 9))\n",
    "plt.bar(ads['Week'],ads['Impressions'])\n",
    "plt.xticks(rotation=45)\n",
    "plt.ylabel('Impressions')\n",
    "plt.xlabel('Week')\n",
    "plt.show()"
   ]
  },
  {
   "cell_type": "markdown",
   "id": "1c81b6d2",
   "metadata": {},
   "source": [
    "## Objective 2 : To find the  Most Profitable Channel"
   ]
  },
  {
   "cell_type": "markdown",
   "id": "216da676",
   "metadata": {},
   "source": [
    "### Here since the payment was totally uncertain and contained a lot of missing values, CTR and CPC was found. \n",
    "\n",
    "### It is known that the most profitable channel will be the one with the higher CTR and lowest CPC.\n"
   ]
  },
  {
   "cell_type": "code",
   "execution_count": 233,
   "id": "8722286f",
   "metadata": {},
   "outputs": [
    {
     "data": {
      "text/plain": [
       "100.0"
      ]
     },
     "execution_count": 233,
     "metadata": {},
     "output_type": "execute_result"
    }
   ],
   "source": [
    "ads['CTR'].max().col"
   ]
  },
  {
   "cell_type": "code",
   "execution_count": 240,
   "id": "8d5d0297",
   "metadata": {},
   "outputs": [
    {
     "name": "stdout",
     "output_type": "stream",
     "text": [
      "Week                                           22-Feb-21\n",
      "Campaign                             EK_Generic_Swimming\n",
      "Ad_group          Swimming_Pool_Reservation_System_Exact\n",
      "Keyword_type                                       Exact\n",
      "Search_keyword          swimming pool reservation system\n",
      "Clicks                                                 1\n",
      "Impressions                                            1\n",
      "Cost                                                4.64\n",
      "Leads                                                  0\n",
      "Prospects                                              0\n",
      "CTR                                                100.0\n",
      "CPC                                                 4.64\n",
      "Weeks                                2021-02-22 00:00:00\n",
      "Name: 121, dtype: object\n"
     ]
    }
   ],
   "source": [
    "col = ads['CTR']\n",
    "max_x = ads.loc[ads['CTR'].idxmax()]\n",
    "print( max_x)"
   ]
  },
  {
   "cell_type": "markdown",
   "id": "cfddb3ba",
   "metadata": {},
   "source": [
    "## From Above we get to know that The Campaign of EK_Generic_Swimming has the highest number of CTR , Hence the Swimming Channel is analysed to be the most profitable channel"
   ]
  },
  {
   "cell_type": "markdown",
   "id": "4b7efc6b",
   "metadata": {},
   "source": [
    "## Objecctive 3 : Which category/keyword is the most profitable ?"
   ]
  },
  {
   "cell_type": "code",
   "execution_count": 246,
   "id": "9c26c937",
   "metadata": {},
   "outputs": [
    {
     "data": {
      "text/plain": [
       "array(['Exact', 'Broad', 'Phrase'], dtype=object)"
      ]
     },
     "execution_count": 246,
     "metadata": {},
     "output_type": "execute_result"
    }
   ],
   "source": [
    "ads.Keyword_type.unique()"
   ]
  },
  {
   "cell_type": "code",
   "execution_count": 254,
   "id": "7a1722e1",
   "metadata": {},
   "outputs": [
    {
     "data": {
      "image/png": "[encoded data removed]",
      "text/plain": [
       "<Figure size 1296x648 with 1 Axes>"
      ]
     },
     "metadata": {
      "needs_background": "light"
     },
     "output_type": "display_data"
    }
   ],
   "source": [
    "\n",
    "from matplotlib.pyplot import figure\n",
    "figure(figsize=(18, 9))\n",
    "plt.bar(ads['Keyword_type'],ads['CTR'])\n",
    "plt.xticks(rotation=90)\n",
    "plt.ylabel('CTR')\n",
    "plt.xlabel('Keyword_type')\n",
    "plt.show()"
   ]
  },
  {
   "cell_type": "code",
   "execution_count": 263,
   "id": "e08447f6",
   "metadata": {},
   "outputs": [
    {
     "data": {
      "text/html": [
       "<div>\n",
       "<style scoped>\n",
       "    .dataframe tbody tr th:only-of-type {\n",
       "        vertical-align: middle;\n",
       "    }\n",
       "\n",
       "    .dataframe tbody tr th {\n",
       "        vertical-align: top;\n",
       "    }\n",
       "\n",
       "    .dataframe thead th {\n",
       "        text-align: right;\n",
       "    }\n",
       "</style>\n",
       "<table border=\"1\" class=\"dataframe\">\n",
       "  <thead>\n",
       "    <tr style=\"text-align: right;\">\n",
       "      <th></th>\n",
       "      <th>Clicks</th>\n",
       "      <th>Impressions</th>\n",
       "      <th>Cost</th>\n",
       "      <th>Leads</th>\n",
       "      <th>Prospects</th>\n",
       "      <th>CTR</th>\n",
       "      <th>CPC</th>\n",
       "    </tr>\n",
       "    <tr>\n",
       "      <th>Keyword_type</th>\n",
       "      <th></th>\n",
       "      <th></th>\n",
       "      <th></th>\n",
       "      <th></th>\n",
       "      <th></th>\n",
       "      <th></th>\n",
       "      <th></th>\n",
       "    </tr>\n",
       "  </thead>\n",
       "  <tbody>\n",
       "    <tr>\n",
       "      <th>Exact</th>\n",
       "      <td>99</td>\n",
       "      <td>1060</td>\n",
       "      <td>580.33</td>\n",
       "      <td>6</td>\n",
       "      <td>5</td>\n",
       "      <td>1504.449449</td>\n",
       "      <td>326.052631</td>\n",
       "    </tr>\n",
       "    <tr>\n",
       "      <th>Broad</th>\n",
       "      <td>200</td>\n",
       "      <td>4476</td>\n",
       "      <td>1264.80</td>\n",
       "      <td>4</td>\n",
       "      <td>12</td>\n",
       "      <td>877.964900</td>\n",
       "      <td>312.758888</td>\n",
       "    </tr>\n",
       "    <tr>\n",
       "      <th>Phrase</th>\n",
       "      <td>88</td>\n",
       "      <td>1429</td>\n",
       "      <td>943.55</td>\n",
       "      <td>2</td>\n",
       "      <td>4</td>\n",
       "      <td>797.906543</td>\n",
       "      <td>551.840000</td>\n",
       "    </tr>\n",
       "  </tbody>\n",
       "</table>\n",
       "</div>"
      ],
      "text/plain": [
       "              Clicks  Impressions     Cost  Leads  Prospects          CTR  \\\n",
       "Keyword_type                                                                \n",
       "Exact             99         1060   580.33      6          5  1504.449449   \n",
       "Broad            200         4476  1264.80      4         12   877.964900   \n",
       "Phrase            88         1429   943.55      2          4   797.906543   \n",
       "\n",
       "                     CPC  \n",
       "Keyword_type              \n",
       "Exact         326.052631  \n",
       "Broad         312.758888  \n",
       "Phrase        551.840000  "
      ]
     },
     "execution_count": 263,
     "metadata": {},
     "output_type": "execute_result"
    }
   ],
   "source": [
    "ads.groupby([\"Keyword_type\"]).sum().sort_values(\"CTR\", ascending=False)\n"
   ]
  },
  {
   "cell_type": "markdown",
   "id": "3232fa50",
   "metadata": {},
   "source": [
    "## From the above we get to know that the Keyword_Type \"Broad\" is the most profitable one as it has the highest Impressions and Clicks and a lower CPC compared to other Keywords"
   ]
  },
  {
   "cell_type": "markdown",
   "id": "53172b60",
   "metadata": {},
   "source": [
    "## Objective 4 : Look for insights by analyzing data points on time series graphs"
   ]
  },
  {
   "cell_type": "code",
   "execution_count": 267,
   "id": "19a2fad7",
   "metadata": {},
   "outputs": [
    {
     "data": {
      "text/html": [
       "<div>\n",
       "<style scoped>\n",
       "    .dataframe tbody tr th:only-of-type {\n",
       "        vertical-align: middle;\n",
       "    }\n",
       "\n",
       "    .dataframe tbody tr th {\n",
       "        vertical-align: top;\n",
       "    }\n",
       "\n",
       "    .dataframe thead th {\n",
       "        text-align: right;\n",
       "    }\n",
       "</style>\n",
       "<table border=\"1\" class=\"dataframe\">\n",
       "  <thead>\n",
       "    <tr style=\"text-align: right;\">\n",
       "      <th></th>\n",
       "      <th>Campaign</th>\n",
       "      <th>Ad_group</th>\n",
       "      <th>Keyword_type</th>\n",
       "      <th>Search_keyword</th>\n",
       "      <th>Clicks</th>\n",
       "      <th>Impressions</th>\n",
       "      <th>Cost</th>\n",
       "      <th>Leads</th>\n",
       "      <th>Prospects</th>\n",
       "      <th>CTR</th>\n",
       "      <th>CPC</th>\n",
       "      <th>Weeks</th>\n",
       "    </tr>\n",
       "  </thead>\n",
       "  <tbody>\n",
       "    <tr>\n",
       "      <th>0</th>\n",
       "      <td>EK_Generic_Swimming</td>\n",
       "      <td>Pool_Reservation_System_Exact</td>\n",
       "      <td>Exact</td>\n",
       "      <td>pool reservation system</td>\n",
       "      <td>2</td>\n",
       "      <td>17</td>\n",
       "      <td>38.33</td>\n",
       "      <td>0</td>\n",
       "      <td>1</td>\n",
       "      <td>11.764706</td>\n",
       "      <td>19.1650</td>\n",
       "      <td>2021-01-25</td>\n",
       "    </tr>\n",
       "    <tr>\n",
       "      <th>1</th>\n",
       "      <td>EK_Generic_Swimming</td>\n",
       "      <td>Pool_Booking_App_Exact</td>\n",
       "      <td>Exact</td>\n",
       "      <td>pool booking app</td>\n",
       "      <td>1</td>\n",
       "      <td>13</td>\n",
       "      <td>11.70</td>\n",
       "      <td>0</td>\n",
       "      <td>0</td>\n",
       "      <td>7.692308</td>\n",
       "      <td>11.7000</td>\n",
       "      <td>2021-01-25</td>\n",
       "    </tr>\n",
       "    <tr>\n",
       "      <th>2</th>\n",
       "      <td>EK_Generic_Quad-Tok_Yoga</td>\n",
       "      <td>Yoga_Studio_Booking_Software_Broad</td>\n",
       "      <td>Broad</td>\n",
       "      <td>yoga studio booking software</td>\n",
       "      <td>4</td>\n",
       "      <td>154</td>\n",
       "      <td>45.13</td>\n",
       "      <td>0</td>\n",
       "      <td>1</td>\n",
       "      <td>2.597403</td>\n",
       "      <td>11.2825</td>\n",
       "      <td>2021-01-25</td>\n",
       "    </tr>\n",
       "    <tr>\n",
       "      <th>3</th>\n",
       "      <td>EK_Generic_Swimming</td>\n",
       "      <td>Pool_Scheduling_Software_Phrase</td>\n",
       "      <td>Phrase</td>\n",
       "      <td>pool scheduling software</td>\n",
       "      <td>2</td>\n",
       "      <td>8</td>\n",
       "      <td>23.91</td>\n",
       "      <td>0</td>\n",
       "      <td>0</td>\n",
       "      <td>25.000000</td>\n",
       "      <td>11.9550</td>\n",
       "      <td>2021-01-25</td>\n",
       "    </tr>\n",
       "    <tr>\n",
       "      <th>4</th>\n",
       "      <td>EK_Generic_Swimming_UK</td>\n",
       "      <td>Pool_Reservation_Software_Broad</td>\n",
       "      <td>Broad</td>\n",
       "      <td>pool reservation software</td>\n",
       "      <td>2</td>\n",
       "      <td>13</td>\n",
       "      <td>4.89</td>\n",
       "      <td>0</td>\n",
       "      <td>0</td>\n",
       "      <td>15.384615</td>\n",
       "      <td>2.4450</td>\n",
       "      <td>2021-01-25</td>\n",
       "    </tr>\n",
       "  </tbody>\n",
       "</table>\n",
       "</div>"
      ],
      "text/plain": [
       "                   Campaign                            Ad_group Keyword_type  \\\n",
       "0       EK_Generic_Swimming       Pool_Reservation_System_Exact        Exact   \n",
       "1       EK_Generic_Swimming              Pool_Booking_App_Exact        Exact   \n",
       "2  EK_Generic_Quad-Tok_Yoga  Yoga_Studio_Booking_Software_Broad        Broad   \n",
       "3       EK_Generic_Swimming     Pool_Scheduling_Software_Phrase       Phrase   \n",
       "4    EK_Generic_Swimming_UK     Pool_Reservation_Software_Broad        Broad   \n",
       "\n",
       "                 Search_keyword  Clicks  Impressions   Cost  Leads  Prospects  \\\n",
       "0       pool reservation system       2           17  38.33      0          1   \n",
       "1              pool booking app       1           13  11.70      0          0   \n",
       "2  yoga studio booking software       4          154  45.13      0          1   \n",
       "3      pool scheduling software       2            8  23.91      0          0   \n",
       "4     pool reservation software       2           13   4.89      0          0   \n",
       "\n",
       "         CTR      CPC      Weeks  \n",
       "0  11.764706  19.1650 2021-01-25  \n",
       "1   7.692308  11.7000 2021-01-25  \n",
       "2   2.597403  11.2825 2021-01-25  \n",
       "3  25.000000  11.9550 2021-01-25  \n",
       "4  15.384615   2.4450 2021-01-25  "
      ]
     },
     "execution_count": 267,
     "metadata": {},
     "output_type": "execute_result"
    }
   ],
   "source": [
    "ads.drop(columns={'Week'},inplace = True)\n",
    "ads.head()"
   ]
  },
  {
   "cell_type": "markdown",
   "id": "f1974050",
   "metadata": {},
   "source": [
    "### Time Series data has four aspects of behaviour Trend , Seasonality , Cycles and Unexplained Variation"
   ]
  },
  {
   "cell_type": "markdown",
   "id": "a386496a",
   "metadata": {},
   "source": [
    "## Below are the graphs that accounts for Time Series Analysis"
   ]
  },
  {
   "cell_type": "code",
   "execution_count": 276,
   "id": "947c7fa9",
   "metadata": {},
   "outputs": [
    {
     "data": {
      "image/png": "[encoded data removed]",
      "text/plain": [
       "<Figure size 1260x1260 with 56 Axes>"
      ]
     },
     "metadata": {
      "needs_background": "light"
     },
     "output_type": "display_data"
    }
   ],
   "source": [
    "sns.pairplot(ads)\n",
    "plt.show()"
   ]
  },
  {
   "cell_type": "code",
   "execution_count": 271,
   "id": "6833eb63",
   "metadata": {},
   "outputs": [
    {
     "data": {
      "text/html": [
       "<div>\n",
       "<style scoped>\n",
       "    .dataframe tbody tr th:only-of-type {\n",
       "        vertical-align: middle;\n",
       "    }\n",
       "\n",
       "    .dataframe tbody tr th {\n",
       "        vertical-align: top;\n",
       "    }\n",
       "\n",
       "    .dataframe thead th {\n",
       "        text-align: right;\n",
       "    }\n",
       "</style>\n",
       "<table border=\"1\" class=\"dataframe\">\n",
       "  <thead>\n",
       "    <tr style=\"text-align: right;\">\n",
       "      <th></th>\n",
       "      <th>Clicks</th>\n",
       "      <th>Impressions</th>\n",
       "      <th>Cost</th>\n",
       "      <th>Leads</th>\n",
       "      <th>Prospects</th>\n",
       "      <th>CTR</th>\n",
       "      <th>CPC</th>\n",
       "    </tr>\n",
       "  </thead>\n",
       "  <tbody>\n",
       "    <tr>\n",
       "      <th>Clicks</th>\n",
       "      <td>1.000000</td>\n",
       "      <td>0.711892</td>\n",
       "      <td>0.857770</td>\n",
       "      <td>0.225552</td>\n",
       "      <td>0.457910</td>\n",
       "      <td>0.283756</td>\n",
       "      <td>0.460805</td>\n",
       "    </tr>\n",
       "    <tr>\n",
       "      <th>Impressions</th>\n",
       "      <td>0.711892</td>\n",
       "      <td>1.000000</td>\n",
       "      <td>0.789016</td>\n",
       "      <td>0.138717</td>\n",
       "      <td>0.256429</td>\n",
       "      <td>-0.042539</td>\n",
       "      <td>0.352652</td>\n",
       "    </tr>\n",
       "    <tr>\n",
       "      <th>Cost</th>\n",
       "      <td>0.857770</td>\n",
       "      <td>0.789016</td>\n",
       "      <td>1.000000</td>\n",
       "      <td>0.288258</td>\n",
       "      <td>0.362452</td>\n",
       "      <td>0.183623</td>\n",
       "      <td>0.678868</td>\n",
       "    </tr>\n",
       "    <tr>\n",
       "      <th>Leads</th>\n",
       "      <td>0.225552</td>\n",
       "      <td>0.138717</td>\n",
       "      <td>0.288258</td>\n",
       "      <td>1.000000</td>\n",
       "      <td>0.019965</td>\n",
       "      <td>0.170895</td>\n",
       "      <td>0.262412</td>\n",
       "    </tr>\n",
       "    <tr>\n",
       "      <th>Prospects</th>\n",
       "      <td>0.457910</td>\n",
       "      <td>0.256429</td>\n",
       "      <td>0.362452</td>\n",
       "      <td>0.019965</td>\n",
       "      <td>1.000000</td>\n",
       "      <td>0.127139</td>\n",
       "      <td>0.159224</td>\n",
       "    </tr>\n",
       "    <tr>\n",
       "      <th>CTR</th>\n",
       "      <td>0.283756</td>\n",
       "      <td>-0.042539</td>\n",
       "      <td>0.183623</td>\n",
       "      <td>0.170895</td>\n",
       "      <td>0.127139</td>\n",
       "      <td>1.000000</td>\n",
       "      <td>0.340070</td>\n",
       "    </tr>\n",
       "    <tr>\n",
       "      <th>CPC</th>\n",
       "      <td>0.460805</td>\n",
       "      <td>0.352652</td>\n",
       "      <td>0.678868</td>\n",
       "      <td>0.262412</td>\n",
       "      <td>0.159224</td>\n",
       "      <td>0.340070</td>\n",
       "      <td>1.000000</td>\n",
       "    </tr>\n",
       "  </tbody>\n",
       "</table>\n",
       "</div>"
      ],
      "text/plain": [
       "               Clicks  Impressions      Cost     Leads  Prospects       CTR  \\\n",
       "Clicks       1.000000     0.711892  0.857770  0.225552   0.457910  0.283756   \n",
       "Impressions  0.711892     1.000000  0.789016  0.138717   0.256429 -0.042539   \n",
       "Cost         0.857770     0.789016  1.000000  0.288258   0.362452  0.183623   \n",
       "Leads        0.225552     0.138717  0.288258  1.000000   0.019965  0.170895   \n",
       "Prospects    0.457910     0.256429  0.362452  0.019965   1.000000  0.127139   \n",
       "CTR          0.283756    -0.042539  0.183623  0.170895   0.127139  1.000000   \n",
       "CPC          0.460805     0.352652  0.678868  0.262412   0.159224  0.340070   \n",
       "\n",
       "                  CPC  \n",
       "Clicks       0.460805  \n",
       "Impressions  0.352652  \n",
       "Cost         0.678868  \n",
       "Leads        0.262412  \n",
       "Prospects    0.159224  \n",
       "CTR          0.340070  \n",
       "CPC          1.000000  "
      ]
     },
     "execution_count": 271,
     "metadata": {},
     "output_type": "execute_result"
    }
   ],
   "source": [
    "ads.corr()"
   ]
  },
  {
   "cell_type": "code",
   "execution_count": 275,
   "id": "575d2a23",
   "metadata": {},
   "outputs": [
    {
     "data": {
      "image/png": "[encoded data removed]",
      "text/plain": [
       "<Figure size 1296x648 with 2 Axes>"
      ]
     },
     "metadata": {
      "needs_background": "light"
     },
     "output_type": "display_data"
    }
   ],
   "source": [
    "\n",
    "from matplotlib.pyplot import figure\n",
    "figure(figsize=(18, 9))\n",
    "sns.heatmap(ads.corr())\n",
    "plt.show()"
   ]
  },
  {
   "cell_type": "code",
   "execution_count": 281,
   "id": "7f87e3d2",
   "metadata": {},
   "outputs": [
    {
     "data": {
      "image/png": "[encoded data removed]",
      "text/plain": [
       "<Figure size 1296x648 with 1 Axes>"
      ]
     },
     "metadata": {
      "needs_background": "light"
     },
     "output_type": "display_data"
    }
   ],
   "source": [
    "from matplotlib.pyplot import figure\n",
    "figure(figsize=(18, 9))\n",
    "\n",
    "plt.hist('CPC',data=ads,histtype='bar',color='green')\n",
    "plt.show()"
   ]
  },
  {
   "cell_type": "code",
   "execution_count": 284,
   "id": "0126a1b6",
   "metadata": {},
   "outputs": [
    {
     "data": {
      "image/png": "[encoded data removed]",
      "text/plain": [
       "<Figure size 1296x648 with 1 Axes>"
      ]
     },
     "metadata": {
      "needs_background": "light"
     },
     "output_type": "display_data"
    }
   ],
   "source": [
    "from matplotlib.pyplot import figure\n",
    "figure(figsize=(18, 9))\n",
    "\n",
    "plt.plot(ads.corr())\n",
    "plt.show()"
   ]
  },
  {
   "cell_type": "code",
   "execution_count": 290,
   "id": "a68cda56",
   "metadata": {},
   "outputs": [
    {
     "data": {
      "image/png": "[encoded data removed]",
      "text/plain": [
       "<Figure size 1296x648 with 1 Axes>"
      ]
     },
     "metadata": {
      "needs_background": "light"
     },
     "output_type": "display_data"
    }
   ],
   "source": [
    "from matplotlib.pyplot import figure\n",
    "figure(figsize=(18, 9))\n",
    "sns.scatterplot(data=ads,x='CTR',y='Clicks',color='red')\n",
    "plt.show()"
   ]
  },
  {
   "cell_type": "code",
   "execution_count": 291,
   "id": "1c259ad8",
   "metadata": {},
   "outputs": [
    {
     "data": {
      "image/png": "[encoded data removed]",
      "text/plain": [
       "<Figure size 1296x648 with 1 Axes>"
      ]
     },
     "metadata": {
      "needs_background": "light"
     },
     "output_type": "display_data"
    }
   ],
   "source": [
    "from matplotlib.pyplot import figure\n",
    "figure(figsize=(18, 9))\n",
    "sns.scatterplot(data=ads,x='CPC',y='Clicks',color='#FF36AB')\n",
    "plt.show()"
   ]
  },
  {
   "cell_type": "markdown",
   "id": "a92a1a92",
   "metadata": {},
   "source": [
    "## Objective 5 : Analyse the Impact of Geography"
   ]
  },
  {
   "cell_type": "code",
   "execution_count": 292,
   "id": "99b4d3eb",
   "metadata": {},
   "outputs": [
    {
     "data": {
      "text/html": [
       "<div>\n",
       "<style scoped>\n",
       "    .dataframe tbody tr th:only-of-type {\n",
       "        vertical-align: middle;\n",
       "    }\n",
       "\n",
       "    .dataframe tbody tr th {\n",
       "        vertical-align: top;\n",
       "    }\n",
       "\n",
       "    .dataframe thead th {\n",
       "        text-align: right;\n",
       "    }\n",
       "</style>\n",
       "<table border=\"1\" class=\"dataframe\">\n",
       "  <thead>\n",
       "    <tr style=\"text-align: right;\">\n",
       "      <th></th>\n",
       "      <th>Campaign</th>\n",
       "      <th>Ad_group</th>\n",
       "      <th>Keyword_type</th>\n",
       "      <th>Search_keyword</th>\n",
       "      <th>Clicks</th>\n",
       "      <th>Impressions</th>\n",
       "      <th>Cost</th>\n",
       "      <th>Leads</th>\n",
       "      <th>Prospects</th>\n",
       "      <th>CTR</th>\n",
       "      <th>CPC</th>\n",
       "      <th>Weeks</th>\n",
       "    </tr>\n",
       "  </thead>\n",
       "  <tbody>\n",
       "    <tr>\n",
       "      <th>0</th>\n",
       "      <td>EK_Generic_Swimming</td>\n",
       "      <td>Pool_Reservation_System_Exact</td>\n",
       "      <td>Exact</td>\n",
       "      <td>pool reservation system</td>\n",
       "      <td>2</td>\n",
       "      <td>17</td>\n",
       "      <td>38.33</td>\n",
       "      <td>0</td>\n",
       "      <td>1</td>\n",
       "      <td>11.764706</td>\n",
       "      <td>19.1650</td>\n",
       "      <td>2021-01-25</td>\n",
       "    </tr>\n",
       "    <tr>\n",
       "      <th>1</th>\n",
       "      <td>EK_Generic_Swimming</td>\n",
       "      <td>Pool_Booking_App_Exact</td>\n",
       "      <td>Exact</td>\n",
       "      <td>pool booking app</td>\n",
       "      <td>1</td>\n",
       "      <td>13</td>\n",
       "      <td>11.70</td>\n",
       "      <td>0</td>\n",
       "      <td>0</td>\n",
       "      <td>7.692308</td>\n",
       "      <td>11.7000</td>\n",
       "      <td>2021-01-25</td>\n",
       "    </tr>\n",
       "    <tr>\n",
       "      <th>2</th>\n",
       "      <td>EK_Generic_Quad-Tok_Yoga</td>\n",
       "      <td>Yoga_Studio_Booking_Software_Broad</td>\n",
       "      <td>Broad</td>\n",
       "      <td>yoga studio booking software</td>\n",
       "      <td>4</td>\n",
       "      <td>154</td>\n",
       "      <td>45.13</td>\n",
       "      <td>0</td>\n",
       "      <td>1</td>\n",
       "      <td>2.597403</td>\n",
       "      <td>11.2825</td>\n",
       "      <td>2021-01-25</td>\n",
       "    </tr>\n",
       "    <tr>\n",
       "      <th>3</th>\n",
       "      <td>EK_Generic_Swimming</td>\n",
       "      <td>Pool_Scheduling_Software_Phrase</td>\n",
       "      <td>Phrase</td>\n",
       "      <td>pool scheduling software</td>\n",
       "      <td>2</td>\n",
       "      <td>8</td>\n",
       "      <td>23.91</td>\n",
       "      <td>0</td>\n",
       "      <td>0</td>\n",
       "      <td>25.000000</td>\n",
       "      <td>11.9550</td>\n",
       "      <td>2021-01-25</td>\n",
       "    </tr>\n",
       "    <tr>\n",
       "      <th>4</th>\n",
       "      <td>EK_Generic_Swimming_UK</td>\n",
       "      <td>Pool_Reservation_Software_Broad</td>\n",
       "      <td>Broad</td>\n",
       "      <td>pool reservation software</td>\n",
       "      <td>2</td>\n",
       "      <td>13</td>\n",
       "      <td>4.89</td>\n",
       "      <td>0</td>\n",
       "      <td>0</td>\n",
       "      <td>15.384615</td>\n",
       "      <td>2.4450</td>\n",
       "      <td>2021-01-25</td>\n",
       "    </tr>\n",
       "  </tbody>\n",
       "</table>\n",
       "</div>"
      ],
      "text/plain": [
       "                   Campaign                            Ad_group Keyword_type  \\\n",
       "0       EK_Generic_Swimming       Pool_Reservation_System_Exact        Exact   \n",
       "1       EK_Generic_Swimming              Pool_Booking_App_Exact        Exact   \n",
       "2  EK_Generic_Quad-Tok_Yoga  Yoga_Studio_Booking_Software_Broad        Broad   \n",
       "3       EK_Generic_Swimming     Pool_Scheduling_Software_Phrase       Phrase   \n",
       "4    EK_Generic_Swimming_UK     Pool_Reservation_Software_Broad        Broad   \n",
       "\n",
       "                 Search_keyword  Clicks  Impressions   Cost  Leads  Prospects  \\\n",
       "0       pool reservation system       2           17  38.33      0          1   \n",
       "1              pool booking app       1           13  11.70      0          0   \n",
       "2  yoga studio booking software       4          154  45.13      0          1   \n",
       "3      pool scheduling software       2            8  23.91      0          0   \n",
       "4     pool reservation software       2           13   4.89      0          0   \n",
       "\n",
       "         CTR      CPC      Weeks  \n",
       "0  11.764706  19.1650 2021-01-25  \n",
       "1   7.692308  11.7000 2021-01-25  \n",
       "2   2.597403  11.2825 2021-01-25  \n",
       "3  25.000000  11.9550 2021-01-25  \n",
       "4  15.384615   2.4450 2021-01-25  "
      ]
     },
     "execution_count": 292,
     "metadata": {},
     "output_type": "execute_result"
    }
   ],
   "source": [
    "ads.head()"
   ]
  },
  {
   "cell_type": "code",
   "execution_count": 294,
   "id": "b2c7b9a2",
   "metadata": {},
   "outputs": [
    {
     "data": {
      "text/plain": [
       "array(['EK_Generic_Swimming', 'EK_Generic_Quad-Tok_Yoga',\n",
       "       'EK_Generic_Swimming_UK', 'EK_Generic_Swimming_Canada',\n",
       "       'EK_Generic_Tri-Tok_Reservation',\n",
       "       'EK_Generic_Quad-Tok_Yoga_Singapore',\n",
       "       'EK_Generic_Tri-Tok_Reservation_Canada',\n",
       "       'EK_Generic_Tri-Tok_Reservation_UK',\n",
       "       'EK_Generic_Tri-Tok_Reservation_UAE',\n",
       "       'EK_Generic_Tri-Tok_Reservation_Singapore',\n",
       "       'EK_Generic_Quad-Tok_Pilates', 'EK_Generic_Tri-Tok_Yoga_Singapore',\n",
       "       'EK_Generic_Tri-Tok_Pilates', 'EK_Generic_Tri-Tok_Yoga',\n",
       "       'EK_Generic_Swimming_Singapore'], dtype=object)"
      ]
     },
     "execution_count": 294,
     "metadata": {},
     "output_type": "execute_result"
    }
   ],
   "source": [
    "ads.Campaign.unique()"
   ]
  },
  {
   "cell_type": "code",
   "execution_count": 309,
   "id": "39ae4a73",
   "metadata": {},
   "outputs": [
    {
     "data": {
      "text/html": [
       "<div>\n",
       "<style scoped>\n",
       "    .dataframe tbody tr th:only-of-type {\n",
       "        vertical-align: middle;\n",
       "    }\n",
       "\n",
       "    .dataframe tbody tr th {\n",
       "        vertical-align: top;\n",
       "    }\n",
       "\n",
       "    .dataframe thead th {\n",
       "        text-align: right;\n",
       "    }\n",
       "</style>\n",
       "<table border=\"1\" class=\"dataframe\">\n",
       "  <thead>\n",
       "    <tr style=\"text-align: right;\">\n",
       "      <th></th>\n",
       "      <th>Campaign</th>\n",
       "      <th>Ad_group</th>\n",
       "      <th>Keyword_type</th>\n",
       "      <th>Search_keyword</th>\n",
       "      <th>Clicks</th>\n",
       "      <th>Impressions</th>\n",
       "      <th>Cost</th>\n",
       "      <th>Leads</th>\n",
       "      <th>Prospects</th>\n",
       "      <th>CTR</th>\n",
       "      <th>CPC</th>\n",
       "      <th>Weeks</th>\n",
       "      <th>keyword</th>\n",
       "    </tr>\n",
       "  </thead>\n",
       "  <tbody>\n",
       "    <tr>\n",
       "      <th>0</th>\n",
       "      <td>EK_Generic_Swimming</td>\n",
       "      <td>Pool_Reservation_System_Exact</td>\n",
       "      <td>Exact</td>\n",
       "      <td>pool reservation system</td>\n",
       "      <td>2</td>\n",
       "      <td>17</td>\n",
       "      <td>38.33</td>\n",
       "      <td>0</td>\n",
       "      <td>1</td>\n",
       "      <td>11.764706</td>\n",
       "      <td>19.1650</td>\n",
       "      <td>2021-01-25</td>\n",
       "      <td>None</td>\n",
       "    </tr>\n",
       "    <tr>\n",
       "      <th>1</th>\n",
       "      <td>EK_Generic_Swimming</td>\n",
       "      <td>Pool_Booking_App_Exact</td>\n",
       "      <td>Exact</td>\n",
       "      <td>pool booking app</td>\n",
       "      <td>1</td>\n",
       "      <td>13</td>\n",
       "      <td>11.70</td>\n",
       "      <td>0</td>\n",
       "      <td>0</td>\n",
       "      <td>7.692308</td>\n",
       "      <td>11.7000</td>\n",
       "      <td>2021-01-25</td>\n",
       "      <td>None</td>\n",
       "    </tr>\n",
       "    <tr>\n",
       "      <th>2</th>\n",
       "      <td>EK_Generic_Quad-Tok_Yoga</td>\n",
       "      <td>Yoga_Studio_Booking_Software_Broad</td>\n",
       "      <td>Broad</td>\n",
       "      <td>yoga studio booking software</td>\n",
       "      <td>4</td>\n",
       "      <td>154</td>\n",
       "      <td>45.13</td>\n",
       "      <td>0</td>\n",
       "      <td>1</td>\n",
       "      <td>2.597403</td>\n",
       "      <td>11.2825</td>\n",
       "      <td>2021-01-25</td>\n",
       "      <td>None</td>\n",
       "    </tr>\n",
       "    <tr>\n",
       "      <th>3</th>\n",
       "      <td>EK_Generic_Swimming</td>\n",
       "      <td>Pool_Scheduling_Software_Phrase</td>\n",
       "      <td>Phrase</td>\n",
       "      <td>pool scheduling software</td>\n",
       "      <td>2</td>\n",
       "      <td>8</td>\n",
       "      <td>23.91</td>\n",
       "      <td>0</td>\n",
       "      <td>0</td>\n",
       "      <td>25.000000</td>\n",
       "      <td>11.9550</td>\n",
       "      <td>2021-01-25</td>\n",
       "      <td>None</td>\n",
       "    </tr>\n",
       "    <tr>\n",
       "      <th>4</th>\n",
       "      <td>EK_Generic_Swimming_UK</td>\n",
       "      <td>Pool_Reservation_Software_Broad</td>\n",
       "      <td>Broad</td>\n",
       "      <td>pool reservation software</td>\n",
       "      <td>2</td>\n",
       "      <td>13</td>\n",
       "      <td>4.89</td>\n",
       "      <td>0</td>\n",
       "      <td>0</td>\n",
       "      <td>15.384615</td>\n",
       "      <td>2.4450</td>\n",
       "      <td>2021-01-25</td>\n",
       "      <td>None</td>\n",
       "    </tr>\n",
       "  </tbody>\n",
       "</table>\n",
       "</div>"
      ],
      "text/plain": [
       "                   Campaign                            Ad_group Keyword_type  \\\n",
       "0       EK_Generic_Swimming       Pool_Reservation_System_Exact        Exact   \n",
       "1       EK_Generic_Swimming              Pool_Booking_App_Exact        Exact   \n",
       "2  EK_Generic_Quad-Tok_Yoga  Yoga_Studio_Booking_Software_Broad        Broad   \n",
       "3       EK_Generic_Swimming     Pool_Scheduling_Software_Phrase       Phrase   \n",
       "4    EK_Generic_Swimming_UK     Pool_Reservation_Software_Broad        Broad   \n",
       "\n",
       "                 Search_keyword  Clicks  Impressions   Cost  Leads  Prospects  \\\n",
       "0       pool reservation system       2           17  38.33      0          1   \n",
       "1              pool booking app       1           13  11.70      0          0   \n",
       "2  yoga studio booking software       4          154  45.13      0          1   \n",
       "3      pool scheduling software       2            8  23.91      0          0   \n",
       "4     pool reservation software       2           13   4.89      0          0   \n",
       "\n",
       "         CTR      CPC      Weeks keyword  \n",
       "0  11.764706  19.1650 2021-01-25    None  \n",
       "1   7.692308  11.7000 2021-01-25    None  \n",
       "2   2.597403  11.2825 2021-01-25    None  \n",
       "3  25.000000  11.9550 2021-01-25    None  \n",
       "4  15.384615   2.4450 2021-01-25    None  "
      ]
     },
     "execution_count": 309,
     "metadata": {},
     "output_type": "execute_result"
    }
   ],
   "source": [
    "ads.head()"
   ]
  },
  {
   "cell_type": "code",
   "execution_count": 308,
   "id": "3b7ccfef",
   "metadata": {},
   "outputs": [],
   "source": [
    "ads.drop(columns={'UK','UAE','Singapore','Canada'},inplace = True)"
   ]
  },
  {
   "cell_type": "code",
   "execution_count": 310,
   "id": "975dade0",
   "metadata": {},
   "outputs": [],
   "source": [
    "ads.drop(columns={'keyword'},inplace = True)"
   ]
  },
  {
   "cell_type": "code",
   "execution_count": 311,
   "id": "6bcc1f74",
   "metadata": {},
   "outputs": [
    {
     "data": {
      "text/html": [
       "<div>\n",
       "<style scoped>\n",
       "    .dataframe tbody tr th:only-of-type {\n",
       "        vertical-align: middle;\n",
       "    }\n",
       "\n",
       "    .dataframe tbody tr th {\n",
       "        vertical-align: top;\n",
       "    }\n",
       "\n",
       "    .dataframe thead th {\n",
       "        text-align: right;\n",
       "    }\n",
       "</style>\n",
       "<table border=\"1\" class=\"dataframe\">\n",
       "  <thead>\n",
       "    <tr style=\"text-align: right;\">\n",
       "      <th></th>\n",
       "      <th>Campaign</th>\n",
       "      <th>Ad_group</th>\n",
       "      <th>Keyword_type</th>\n",
       "      <th>Search_keyword</th>\n",
       "      <th>Clicks</th>\n",
       "      <th>Impressions</th>\n",
       "      <th>Cost</th>\n",
       "      <th>Leads</th>\n",
       "      <th>Prospects</th>\n",
       "      <th>CTR</th>\n",
       "      <th>CPC</th>\n",
       "      <th>Weeks</th>\n",
       "    </tr>\n",
       "  </thead>\n",
       "  <tbody>\n",
       "    <tr>\n",
       "      <th>0</th>\n",
       "      <td>EK_Generic_Swimming</td>\n",
       "      <td>Pool_Reservation_System_Exact</td>\n",
       "      <td>Exact</td>\n",
       "      <td>pool reservation system</td>\n",
       "      <td>2</td>\n",
       "      <td>17</td>\n",
       "      <td>38.33</td>\n",
       "      <td>0</td>\n",
       "      <td>1</td>\n",
       "      <td>11.764706</td>\n",
       "      <td>19.1650</td>\n",
       "      <td>2021-01-25</td>\n",
       "    </tr>\n",
       "    <tr>\n",
       "      <th>1</th>\n",
       "      <td>EK_Generic_Swimming</td>\n",
       "      <td>Pool_Booking_App_Exact</td>\n",
       "      <td>Exact</td>\n",
       "      <td>pool booking app</td>\n",
       "      <td>1</td>\n",
       "      <td>13</td>\n",
       "      <td>11.70</td>\n",
       "      <td>0</td>\n",
       "      <td>0</td>\n",
       "      <td>7.692308</td>\n",
       "      <td>11.7000</td>\n",
       "      <td>2021-01-25</td>\n",
       "    </tr>\n",
       "    <tr>\n",
       "      <th>2</th>\n",
       "      <td>EK_Generic_Quad-Tok_Yoga</td>\n",
       "      <td>Yoga_Studio_Booking_Software_Broad</td>\n",
       "      <td>Broad</td>\n",
       "      <td>yoga studio booking software</td>\n",
       "      <td>4</td>\n",
       "      <td>154</td>\n",
       "      <td>45.13</td>\n",
       "      <td>0</td>\n",
       "      <td>1</td>\n",
       "      <td>2.597403</td>\n",
       "      <td>11.2825</td>\n",
       "      <td>2021-01-25</td>\n",
       "    </tr>\n",
       "    <tr>\n",
       "      <th>3</th>\n",
       "      <td>EK_Generic_Swimming</td>\n",
       "      <td>Pool_Scheduling_Software_Phrase</td>\n",
       "      <td>Phrase</td>\n",
       "      <td>pool scheduling software</td>\n",
       "      <td>2</td>\n",
       "      <td>8</td>\n",
       "      <td>23.91</td>\n",
       "      <td>0</td>\n",
       "      <td>0</td>\n",
       "      <td>25.000000</td>\n",
       "      <td>11.9550</td>\n",
       "      <td>2021-01-25</td>\n",
       "    </tr>\n",
       "    <tr>\n",
       "      <th>4</th>\n",
       "      <td>EK_Generic_Swimming_UK</td>\n",
       "      <td>Pool_Reservation_Software_Broad</td>\n",
       "      <td>Broad</td>\n",
       "      <td>pool reservation software</td>\n",
       "      <td>2</td>\n",
       "      <td>13</td>\n",
       "      <td>4.89</td>\n",
       "      <td>0</td>\n",
       "      <td>0</td>\n",
       "      <td>15.384615</td>\n",
       "      <td>2.4450</td>\n",
       "      <td>2021-01-25</td>\n",
       "    </tr>\n",
       "  </tbody>\n",
       "</table>\n",
       "</div>"
      ],
      "text/plain": [
       "                   Campaign                            Ad_group Keyword_type  \\\n",
       "0       EK_Generic_Swimming       Pool_Reservation_System_Exact        Exact   \n",
       "1       EK_Generic_Swimming              Pool_Booking_App_Exact        Exact   \n",
       "2  EK_Generic_Quad-Tok_Yoga  Yoga_Studio_Booking_Software_Broad        Broad   \n",
       "3       EK_Generic_Swimming     Pool_Scheduling_Software_Phrase       Phrase   \n",
       "4    EK_Generic_Swimming_UK     Pool_Reservation_Software_Broad        Broad   \n",
       "\n",
       "                 Search_keyword  Clicks  Impressions   Cost  Leads  Prospects  \\\n",
       "0       pool reservation system       2           17  38.33      0          1   \n",
       "1              pool booking app       1           13  11.70      0          0   \n",
       "2  yoga studio booking software       4          154  45.13      0          1   \n",
       "3      pool scheduling software       2            8  23.91      0          0   \n",
       "4     pool reservation software       2           13   4.89      0          0   \n",
       "\n",
       "         CTR      CPC      Weeks  \n",
       "0  11.764706  19.1650 2021-01-25  \n",
       "1   7.692308  11.7000 2021-01-25  \n",
       "2   2.597403  11.2825 2021-01-25  \n",
       "3  25.000000  11.9550 2021-01-25  \n",
       "4  15.384615   2.4450 2021-01-25  "
      ]
     },
     "execution_count": 311,
     "metadata": {},
     "output_type": "execute_result"
    }
   ],
   "source": [
    "ads.head()"
   ]
  },
  {
   "cell_type": "code",
   "execution_count": 356,
   "id": "5bea29a3",
   "metadata": {},
   "outputs": [
    {
     "data": {
      "text/html": [
       "<div>\n",
       "<style scoped>\n",
       "    .dataframe tbody tr th:only-of-type {\n",
       "        vertical-align: middle;\n",
       "    }\n",
       "\n",
       "    .dataframe tbody tr th {\n",
       "        vertical-align: top;\n",
       "    }\n",
       "\n",
       "    .dataframe thead th {\n",
       "        text-align: right;\n",
       "    }\n",
       "</style>\n",
       "<table border=\"1\" class=\"dataframe\">\n",
       "  <thead>\n",
       "    <tr style=\"text-align: right;\">\n",
       "      <th></th>\n",
       "      <th>Campaign</th>\n",
       "      <th>Ad_group</th>\n",
       "      <th>Keyword_type</th>\n",
       "      <th>Search_keyword</th>\n",
       "      <th>Clicks</th>\n",
       "      <th>Impressions</th>\n",
       "      <th>Cost</th>\n",
       "      <th>Leads</th>\n",
       "      <th>Prospects</th>\n",
       "      <th>CTR</th>\n",
       "      <th>CPC</th>\n",
       "      <th>Weeks</th>\n",
       "      <th>Region</th>\n",
       "    </tr>\n",
       "  </thead>\n",
       "  <tbody>\n",
       "    <tr>\n",
       "      <th>0</th>\n",
       "      <td>EK_Generic_Swimming</td>\n",
       "      <td>Pool_Reservation_System_Exact</td>\n",
       "      <td>Exact</td>\n",
       "      <td>pool reservation system</td>\n",
       "      <td>2</td>\n",
       "      <td>17</td>\n",
       "      <td>38.33</td>\n",
       "      <td>0</td>\n",
       "      <td>1</td>\n",
       "      <td>11.764706</td>\n",
       "      <td>19.1650</td>\n",
       "      <td>2021-01-25</td>\n",
       "      <td></td>\n",
       "    </tr>\n",
       "    <tr>\n",
       "      <th>1</th>\n",
       "      <td>EK_Generic_Swimming</td>\n",
       "      <td>Pool_Booking_App_Exact</td>\n",
       "      <td>Exact</td>\n",
       "      <td>pool booking app</td>\n",
       "      <td>1</td>\n",
       "      <td>13</td>\n",
       "      <td>11.70</td>\n",
       "      <td>0</td>\n",
       "      <td>0</td>\n",
       "      <td>7.692308</td>\n",
       "      <td>11.7000</td>\n",
       "      <td>2021-01-25</td>\n",
       "      <td></td>\n",
       "    </tr>\n",
       "    <tr>\n",
       "      <th>2</th>\n",
       "      <td>EK_Generic_Quad-Tok_Yoga</td>\n",
       "      <td>Yoga_Studio_Booking_Software_Broad</td>\n",
       "      <td>Broad</td>\n",
       "      <td>yoga studio booking software</td>\n",
       "      <td>4</td>\n",
       "      <td>154</td>\n",
       "      <td>45.13</td>\n",
       "      <td>0</td>\n",
       "      <td>1</td>\n",
       "      <td>2.597403</td>\n",
       "      <td>11.2825</td>\n",
       "      <td>2021-01-25</td>\n",
       "      <td></td>\n",
       "    </tr>\n",
       "    <tr>\n",
       "      <th>3</th>\n",
       "      <td>EK_Generic_Swimming</td>\n",
       "      <td>Pool_Scheduling_Software_Phrase</td>\n",
       "      <td>Phrase</td>\n",
       "      <td>pool scheduling software</td>\n",
       "      <td>2</td>\n",
       "      <td>8</td>\n",
       "      <td>23.91</td>\n",
       "      <td>0</td>\n",
       "      <td>0</td>\n",
       "      <td>25.000000</td>\n",
       "      <td>11.9550</td>\n",
       "      <td>2021-01-25</td>\n",
       "      <td></td>\n",
       "    </tr>\n",
       "    <tr>\n",
       "      <th>4</th>\n",
       "      <td>EK_Generic_Swimming_UK</td>\n",
       "      <td>Pool_Reservation_Software_Broad</td>\n",
       "      <td>Broad</td>\n",
       "      <td>pool reservation software</td>\n",
       "      <td>2</td>\n",
       "      <td>13</td>\n",
       "      <td>4.89</td>\n",
       "      <td>0</td>\n",
       "      <td>0</td>\n",
       "      <td>15.384615</td>\n",
       "      <td>2.4450</td>\n",
       "      <td>2021-01-25</td>\n",
       "      <td>UK</td>\n",
       "    </tr>\n",
       "  </tbody>\n",
       "</table>\n",
       "</div>"
      ],
      "text/plain": [
       "                   Campaign                            Ad_group Keyword_type  \\\n",
       "0       EK_Generic_Swimming       Pool_Reservation_System_Exact        Exact   \n",
       "1       EK_Generic_Swimming              Pool_Booking_App_Exact        Exact   \n",
       "2  EK_Generic_Quad-Tok_Yoga  Yoga_Studio_Booking_Software_Broad        Broad   \n",
       "3       EK_Generic_Swimming     Pool_Scheduling_Software_Phrase       Phrase   \n",
       "4    EK_Generic_Swimming_UK     Pool_Reservation_Software_Broad        Broad   \n",
       "\n",
       "                 Search_keyword  Clicks  Impressions   Cost  Leads  Prospects  \\\n",
       "0       pool reservation system       2           17  38.33      0          1   \n",
       "1              pool booking app       1           13  11.70      0          0   \n",
       "2  yoga studio booking software       4          154  45.13      0          1   \n",
       "3      pool scheduling software       2            8  23.91      0          0   \n",
       "4     pool reservation software       2           13   4.89      0          0   \n",
       "\n",
       "         CTR      CPC      Weeks Region  \n",
       "0  11.764706  19.1650 2021-01-25         \n",
       "1   7.692308  11.7000 2021-01-25         \n",
       "2   2.597403  11.2825 2021-01-25         \n",
       "3  25.000000  11.9550 2021-01-25         \n",
       "4  15.384615   2.4450 2021-01-25     UK  "
      ]
     },
     "execution_count": 356,
     "metadata": {},
     "output_type": "execute_result"
    }
   ],
   "source": [
    "keywords= ['UK', 'Singapore', 'Canada','UAE']\n",
    "\n",
    "ads['Region'] = ads['Campaign'].str.findall('|'.join(keywords)).apply(set).str.join(',')\n",
    "ads.head()"
   ]
  },
  {
   "cell_type": "code",
   "execution_count": 360,
   "id": "d258eff0",
   "metadata": {},
   "outputs": [
    {
     "name": "stdout",
     "output_type": "stream",
     "text": [
      "                           Campaign                                  Ad_group  \\\n",
      "0               EK_Generic_Swimming             Pool_Reservation_System_Exact   \n",
      "1               EK_Generic_Swimming                    Pool_Booking_App_Exact   \n",
      "2          EK_Generic_Quad-Tok_Yoga        Yoga_Studio_Booking_Software_Broad   \n",
      "3               EK_Generic_Swimming           Pool_Scheduling_Software_Phrase   \n",
      "4            EK_Generic_Swimming_UK           Pool_Reservation_Software_Broad   \n",
      "..                              ...                                       ...   \n",
      "413             EK_Generic_Swimming           Pool_Reservation_Software_Broad   \n",
      "414        EK_Generic_Quad-Tok_Yoga        Yoga_Studio_Booking_Software_Exact   \n",
      "415  EK_Generic_Tri-Tok_Reservation       Reservation_Management_System_Exact   \n",
      "416     EK_Generic_Quad-Tok_Pilates     Pilates_Studio_Booking_Software_Broad   \n",
      "417     EK_Generic_Quad-Tok_Pilates  Pilates_Studio_Management_Software_Exact   \n",
      "\n",
      "    Keyword_type                      Search_keyword  Clicks  Impressions  \\\n",
      "0          Exact             pool reservation system       2           17   \n",
      "1          Exact                    pool booking app       1           13   \n",
      "2          Broad        yoga studio booking software       4          154   \n",
      "3         Phrase            pool scheduling software       2            8   \n",
      "4          Broad           pool reservation software       2           13   \n",
      "..           ...                                 ...     ...          ...   \n",
      "413        Broad           pool reservation software       0            1   \n",
      "414        Exact        yoga studio booking software       0            6   \n",
      "415        Exact       reservation management system       0            0   \n",
      "416        Broad     pilates studio booking software       0            1   \n",
      "417        Exact  pilates studio management software       0            3   \n",
      "\n",
      "      Cost  Leads  Prospects        CTR      CPC      Weeks Region  \n",
      "0    38.33      0          1  11.764706  19.1650 2021-01-25    NaN  \n",
      "1    11.70      0          0   7.692308  11.7000 2021-01-25    NaN  \n",
      "2    45.13      0          1   2.597403  11.2825 2021-01-25    NaN  \n",
      "3    23.91      0          0  25.000000  11.9550 2021-01-25    NaN  \n",
      "4     4.89      0          0  15.384615   2.4450 2021-01-25     UK  \n",
      "..     ...    ...        ...        ...      ...        ...    ...  \n",
      "413   0.00      0          0   0.000000   0.0000 2021-05-03    NaN  \n",
      "414   0.00      0          0   0.000000   0.0000 2021-05-03    NaN  \n",
      "415   0.00      0          0   0.000000   0.0000 2021-05-03    NaN  \n",
      "416   0.00      0          0   0.000000   0.0000 2021-05-03    NaN  \n",
      "417   0.00      0          0   0.000000   0.0000 2021-05-03    NaN  \n",
      "\n",
      "[418 rows x 13 columns]\n"
     ]
    },
    {
     "data": {
      "text/html": [
       "<div>\n",
       "<style scoped>\n",
       "    .dataframe tbody tr th:only-of-type {\n",
       "        vertical-align: middle;\n",
       "    }\n",
       "\n",
       "    .dataframe tbody tr th {\n",
       "        vertical-align: top;\n",
       "    }\n",
       "\n",
       "    .dataframe thead th {\n",
       "        text-align: right;\n",
       "    }\n",
       "</style>\n",
       "<table border=\"1\" class=\"dataframe\">\n",
       "  <thead>\n",
       "    <tr style=\"text-align: right;\">\n",
       "      <th></th>\n",
       "      <th>Campaign</th>\n",
       "      <th>Ad_group</th>\n",
       "      <th>Keyword_type</th>\n",
       "      <th>Search_keyword</th>\n",
       "      <th>Clicks</th>\n",
       "      <th>Impressions</th>\n",
       "      <th>Cost</th>\n",
       "      <th>Leads</th>\n",
       "      <th>Prospects</th>\n",
       "      <th>CTR</th>\n",
       "      <th>CPC</th>\n",
       "      <th>Weeks</th>\n",
       "      <th>Region</th>\n",
       "    </tr>\n",
       "  </thead>\n",
       "  <tbody>\n",
       "    <tr>\n",
       "      <th>0</th>\n",
       "      <td>EK_Generic_Swimming</td>\n",
       "      <td>Pool_Reservation_System_Exact</td>\n",
       "      <td>Exact</td>\n",
       "      <td>pool reservation system</td>\n",
       "      <td>2</td>\n",
       "      <td>17</td>\n",
       "      <td>38.33</td>\n",
       "      <td>0</td>\n",
       "      <td>1</td>\n",
       "      <td>11.764706</td>\n",
       "      <td>19.1650</td>\n",
       "      <td>2021-01-25</td>\n",
       "      <td></td>\n",
       "    </tr>\n",
       "    <tr>\n",
       "      <th>1</th>\n",
       "      <td>EK_Generic_Swimming</td>\n",
       "      <td>Pool_Booking_App_Exact</td>\n",
       "      <td>Exact</td>\n",
       "      <td>pool booking app</td>\n",
       "      <td>1</td>\n",
       "      <td>13</td>\n",
       "      <td>11.70</td>\n",
       "      <td>0</td>\n",
       "      <td>0</td>\n",
       "      <td>7.692308</td>\n",
       "      <td>11.7000</td>\n",
       "      <td>2021-01-25</td>\n",
       "      <td></td>\n",
       "    </tr>\n",
       "    <tr>\n",
       "      <th>2</th>\n",
       "      <td>EK_Generic_Quad-Tok_Yoga</td>\n",
       "      <td>Yoga_Studio_Booking_Software_Broad</td>\n",
       "      <td>Broad</td>\n",
       "      <td>yoga studio booking software</td>\n",
       "      <td>4</td>\n",
       "      <td>154</td>\n",
       "      <td>45.13</td>\n",
       "      <td>0</td>\n",
       "      <td>1</td>\n",
       "      <td>2.597403</td>\n",
       "      <td>11.2825</td>\n",
       "      <td>2021-01-25</td>\n",
       "      <td></td>\n",
       "    </tr>\n",
       "    <tr>\n",
       "      <th>3</th>\n",
       "      <td>EK_Generic_Swimming</td>\n",
       "      <td>Pool_Scheduling_Software_Phrase</td>\n",
       "      <td>Phrase</td>\n",
       "      <td>pool scheduling software</td>\n",
       "      <td>2</td>\n",
       "      <td>8</td>\n",
       "      <td>23.91</td>\n",
       "      <td>0</td>\n",
       "      <td>0</td>\n",
       "      <td>25.000000</td>\n",
       "      <td>11.9550</td>\n",
       "      <td>2021-01-25</td>\n",
       "      <td></td>\n",
       "    </tr>\n",
       "    <tr>\n",
       "      <th>4</th>\n",
       "      <td>EK_Generic_Swimming_UK</td>\n",
       "      <td>Pool_Reservation_Software_Broad</td>\n",
       "      <td>Broad</td>\n",
       "      <td>pool reservation software</td>\n",
       "      <td>2</td>\n",
       "      <td>13</td>\n",
       "      <td>4.89</td>\n",
       "      <td>0</td>\n",
       "      <td>0</td>\n",
       "      <td>15.384615</td>\n",
       "      <td>2.4450</td>\n",
       "      <td>2021-01-25</td>\n",
       "      <td>UK</td>\n",
       "    </tr>\n",
       "    <tr>\n",
       "      <th>5</th>\n",
       "      <td>EK_Generic_Swimming_Canada</td>\n",
       "      <td>Pool_Reservation_Software_Broad</td>\n",
       "      <td>Broad</td>\n",
       "      <td>pool reservation software</td>\n",
       "      <td>1</td>\n",
       "      <td>2</td>\n",
       "      <td>4.93</td>\n",
       "      <td>0</td>\n",
       "      <td>0</td>\n",
       "      <td>50.000000</td>\n",
       "      <td>4.9300</td>\n",
       "      <td>2021-01-25</td>\n",
       "      <td>Canada</td>\n",
       "    </tr>\n",
       "    <tr>\n",
       "      <th>6</th>\n",
       "      <td>EK_Generic_Swimming</td>\n",
       "      <td>Pool_Reservation_Software_Exact</td>\n",
       "      <td>Exact</td>\n",
       "      <td>pool reservation software</td>\n",
       "      <td>1</td>\n",
       "      <td>3</td>\n",
       "      <td>13.44</td>\n",
       "      <td>1</td>\n",
       "      <td>0</td>\n",
       "      <td>33.333333</td>\n",
       "      <td>13.4400</td>\n",
       "      <td>2021-01-25</td>\n",
       "      <td></td>\n",
       "    </tr>\n",
       "    <tr>\n",
       "      <th>7</th>\n",
       "      <td>EK_Generic_Tri-Tok_Reservation</td>\n",
       "      <td>Reservation_Management_System_Phrase</td>\n",
       "      <td>Phrase</td>\n",
       "      <td>reservation management system</td>\n",
       "      <td>1</td>\n",
       "      <td>9</td>\n",
       "      <td>6.08</td>\n",
       "      <td>0</td>\n",
       "      <td>0</td>\n",
       "      <td>11.111111</td>\n",
       "      <td>6.0800</td>\n",
       "      <td>2021-01-25</td>\n",
       "      <td></td>\n",
       "    </tr>\n",
       "    <tr>\n",
       "      <th>8</th>\n",
       "      <td>EK_Generic_Quad-Tok_Yoga_Singapore</td>\n",
       "      <td>Yoga_Studio_Booking_Software_Broad</td>\n",
       "      <td>Broad</td>\n",
       "      <td>yoga studio booking software</td>\n",
       "      <td>1</td>\n",
       "      <td>3</td>\n",
       "      <td>6.38</td>\n",
       "      <td>0</td>\n",
       "      <td>0</td>\n",
       "      <td>33.333333</td>\n",
       "      <td>6.3800</td>\n",
       "      <td>2021-01-25</td>\n",
       "      <td>Singapore</td>\n",
       "    </tr>\n",
       "    <tr>\n",
       "      <th>9</th>\n",
       "      <td>EK_Generic_Tri-Tok_Reservation</td>\n",
       "      <td>Reservation_Management_System_Exact</td>\n",
       "      <td>Exact</td>\n",
       "      <td>reservation management system</td>\n",
       "      <td>0</td>\n",
       "      <td>14</td>\n",
       "      <td>0.00</td>\n",
       "      <td>0</td>\n",
       "      <td>0</td>\n",
       "      <td>0.000000</td>\n",
       "      <td>0.0000</td>\n",
       "      <td>2021-01-25</td>\n",
       "      <td></td>\n",
       "    </tr>\n",
       "    <tr>\n",
       "      <th>10</th>\n",
       "      <td>EK_Generic_Tri-Tok_Reservation_Canada</td>\n",
       "      <td>Reservation_Management_System_Phrase</td>\n",
       "      <td>Phrase</td>\n",
       "      <td>booking management software</td>\n",
       "      <td>0</td>\n",
       "      <td>5</td>\n",
       "      <td>0.00</td>\n",
       "      <td>0</td>\n",
       "      <td>0</td>\n",
       "      <td>0.000000</td>\n",
       "      <td>0.0000</td>\n",
       "      <td>2021-01-25</td>\n",
       "      <td>Canada</td>\n",
       "    </tr>\n",
       "    <tr>\n",
       "      <th>11</th>\n",
       "      <td>EK_Generic_Tri-Tok_Reservation_Canada</td>\n",
       "      <td>Reservation_Management_System_Exact</td>\n",
       "      <td>Exact</td>\n",
       "      <td>reservation management system</td>\n",
       "      <td>0</td>\n",
       "      <td>4</td>\n",
       "      <td>0.00</td>\n",
       "      <td>0</td>\n",
       "      <td>0</td>\n",
       "      <td>0.000000</td>\n",
       "      <td>0.0000</td>\n",
       "      <td>2021-01-25</td>\n",
       "      <td>Canada</td>\n",
       "    </tr>\n",
       "    <tr>\n",
       "      <th>12</th>\n",
       "      <td>EK_Generic_Swimming</td>\n",
       "      <td>Swimming_Pool_Reservation_System_Exact</td>\n",
       "      <td>Exact</td>\n",
       "      <td>swimming pool reservation system</td>\n",
       "      <td>0</td>\n",
       "      <td>2</td>\n",
       "      <td>0.00</td>\n",
       "      <td>0</td>\n",
       "      <td>0</td>\n",
       "      <td>0.000000</td>\n",
       "      <td>0.0000</td>\n",
       "      <td>2021-01-25</td>\n",
       "      <td></td>\n",
       "    </tr>\n",
       "    <tr>\n",
       "      <th>13</th>\n",
       "      <td>EK_Generic_Tri-Tok_Reservation_UK</td>\n",
       "      <td>Reservation_Management_System_Exact</td>\n",
       "      <td>Exact</td>\n",
       "      <td>reservation management system</td>\n",
       "      <td>0</td>\n",
       "      <td>10</td>\n",
       "      <td>0.00</td>\n",
       "      <td>0</td>\n",
       "      <td>0</td>\n",
       "      <td>0.000000</td>\n",
       "      <td>0.0000</td>\n",
       "      <td>2021-01-25</td>\n",
       "      <td>UK</td>\n",
       "    </tr>\n",
       "    <tr>\n",
       "      <th>14</th>\n",
       "      <td>EK_Generic_Quad-Tok_Yoga</td>\n",
       "      <td>Yoga_Studio_Booking_Software_Exact</td>\n",
       "      <td>Exact</td>\n",
       "      <td>yoga studio booking software</td>\n",
       "      <td>0</td>\n",
       "      <td>6</td>\n",
       "      <td>0.00</td>\n",
       "      <td>0</td>\n",
       "      <td>0</td>\n",
       "      <td>0.000000</td>\n",
       "      <td>0.0000</td>\n",
       "      <td>2021-01-25</td>\n",
       "      <td></td>\n",
       "    </tr>\n",
       "    <tr>\n",
       "      <th>15</th>\n",
       "      <td>EK_Generic_Tri-Tok_Reservation</td>\n",
       "      <td>Reservation_Management_System_Phrase</td>\n",
       "      <td>Phrase</td>\n",
       "      <td>booking management software</td>\n",
       "      <td>0</td>\n",
       "      <td>26</td>\n",
       "      <td>0.00</td>\n",
       "      <td>0</td>\n",
       "      <td>0</td>\n",
       "      <td>0.000000</td>\n",
       "      <td>0.0000</td>\n",
       "      <td>2021-01-25</td>\n",
       "      <td></td>\n",
       "    </tr>\n",
       "    <tr>\n",
       "      <th>16</th>\n",
       "      <td>EK_Generic_Swimming</td>\n",
       "      <td>Swimming_Pool_Booking_System_Exact</td>\n",
       "      <td>Exact</td>\n",
       "      <td>swimming pool booking system</td>\n",
       "      <td>0</td>\n",
       "      <td>2</td>\n",
       "      <td>0.00</td>\n",
       "      <td>0</td>\n",
       "      <td>0</td>\n",
       "      <td>0.000000</td>\n",
       "      <td>0.0000</td>\n",
       "      <td>2021-01-25</td>\n",
       "      <td></td>\n",
       "    </tr>\n",
       "    <tr>\n",
       "      <th>17</th>\n",
       "      <td>EK_Generic_Swimming_UK</td>\n",
       "      <td>Swimming_Pool_Booking_System_Exact</td>\n",
       "      <td>Exact</td>\n",
       "      <td>swimming pool booking system</td>\n",
       "      <td>0</td>\n",
       "      <td>1</td>\n",
       "      <td>0.00</td>\n",
       "      <td>0</td>\n",
       "      <td>0</td>\n",
       "      <td>0.000000</td>\n",
       "      <td>0.0000</td>\n",
       "      <td>2021-01-25</td>\n",
       "      <td>UK</td>\n",
       "    </tr>\n",
       "    <tr>\n",
       "      <th>18</th>\n",
       "      <td>EK_Generic_Tri-Tok_Reservation_UAE</td>\n",
       "      <td>Reservation_Management_System_Phrase</td>\n",
       "      <td>Phrase</td>\n",
       "      <td>booking management software</td>\n",
       "      <td>0</td>\n",
       "      <td>0</td>\n",
       "      <td>0.00</td>\n",
       "      <td>0</td>\n",
       "      <td>0</td>\n",
       "      <td>0.000000</td>\n",
       "      <td>0.0000</td>\n",
       "      <td>2021-01-25</td>\n",
       "      <td>UAE</td>\n",
       "    </tr>\n",
       "    <tr>\n",
       "      <th>19</th>\n",
       "      <td>EK_Generic_Swimming_Canada</td>\n",
       "      <td>Swimming_Pool_Booking_System_Exact</td>\n",
       "      <td>Exact</td>\n",
       "      <td>swimming pool booking system</td>\n",
       "      <td>0</td>\n",
       "      <td>1</td>\n",
       "      <td>0.00</td>\n",
       "      <td>0</td>\n",
       "      <td>0</td>\n",
       "      <td>0.000000</td>\n",
       "      <td>0.0000</td>\n",
       "      <td>2021-01-25</td>\n",
       "      <td>Canada</td>\n",
       "    </tr>\n",
       "  </tbody>\n",
       "</table>\n",
       "</div>"
      ],
      "text/plain": [
       "                                 Campaign  \\\n",
       "0                     EK_Generic_Swimming   \n",
       "1                     EK_Generic_Swimming   \n",
       "2                EK_Generic_Quad-Tok_Yoga   \n",
       "3                     EK_Generic_Swimming   \n",
       "4                  EK_Generic_Swimming_UK   \n",
       "5              EK_Generic_Swimming_Canada   \n",
       "6                     EK_Generic_Swimming   \n",
       "7          EK_Generic_Tri-Tok_Reservation   \n",
       "8      EK_Generic_Quad-Tok_Yoga_Singapore   \n",
       "9          EK_Generic_Tri-Tok_Reservation   \n",
       "10  EK_Generic_Tri-Tok_Reservation_Canada   \n",
       "11  EK_Generic_Tri-Tok_Reservation_Canada   \n",
       "12                    EK_Generic_Swimming   \n",
       "13      EK_Generic_Tri-Tok_Reservation_UK   \n",
       "14               EK_Generic_Quad-Tok_Yoga   \n",
       "15         EK_Generic_Tri-Tok_Reservation   \n",
       "16                    EK_Generic_Swimming   \n",
       "17                 EK_Generic_Swimming_UK   \n",
       "18     EK_Generic_Tri-Tok_Reservation_UAE   \n",
       "19             EK_Generic_Swimming_Canada   \n",
       "\n",
       "                                  Ad_group Keyword_type  \\\n",
       "0            Pool_Reservation_System_Exact        Exact   \n",
       "1                   Pool_Booking_App_Exact        Exact   \n",
       "2       Yoga_Studio_Booking_Software_Broad        Broad   \n",
       "3          Pool_Scheduling_Software_Phrase       Phrase   \n",
       "4          Pool_Reservation_Software_Broad        Broad   \n",
       "5          Pool_Reservation_Software_Broad        Broad   \n",
       "6          Pool_Reservation_Software_Exact        Exact   \n",
       "7     Reservation_Management_System_Phrase       Phrase   \n",
       "8       Yoga_Studio_Booking_Software_Broad        Broad   \n",
       "9      Reservation_Management_System_Exact        Exact   \n",
       "10    Reservation_Management_System_Phrase       Phrase   \n",
       "11     Reservation_Management_System_Exact        Exact   \n",
       "12  Swimming_Pool_Reservation_System_Exact        Exact   \n",
       "13     Reservation_Management_System_Exact        Exact   \n",
       "14      Yoga_Studio_Booking_Software_Exact        Exact   \n",
       "15    Reservation_Management_System_Phrase       Phrase   \n",
       "16      Swimming_Pool_Booking_System_Exact        Exact   \n",
       "17      Swimming_Pool_Booking_System_Exact        Exact   \n",
       "18    Reservation_Management_System_Phrase       Phrase   \n",
       "19      Swimming_Pool_Booking_System_Exact        Exact   \n",
       "\n",
       "                      Search_keyword  Clicks  Impressions   Cost  Leads  \\\n",
       "0            pool reservation system       2           17  38.33      0   \n",
       "1                   pool booking app       1           13  11.70      0   \n",
       "2       yoga studio booking software       4          154  45.13      0   \n",
       "3           pool scheduling software       2            8  23.91      0   \n",
       "4          pool reservation software       2           13   4.89      0   \n",
       "5          pool reservation software       1            2   4.93      0   \n",
       "6          pool reservation software       1            3  13.44      1   \n",
       "7      reservation management system       1            9   6.08      0   \n",
       "8       yoga studio booking software       1            3   6.38      0   \n",
       "9      reservation management system       0           14   0.00      0   \n",
       "10       booking management software       0            5   0.00      0   \n",
       "11     reservation management system       0            4   0.00      0   \n",
       "12  swimming pool reservation system       0            2   0.00      0   \n",
       "13     reservation management system       0           10   0.00      0   \n",
       "14      yoga studio booking software       0            6   0.00      0   \n",
       "15       booking management software       0           26   0.00      0   \n",
       "16      swimming pool booking system       0            2   0.00      0   \n",
       "17      swimming pool booking system       0            1   0.00      0   \n",
       "18       booking management software       0            0   0.00      0   \n",
       "19      swimming pool booking system       0            1   0.00      0   \n",
       "\n",
       "    Prospects        CTR      CPC      Weeks     Region  \n",
       "0           1  11.764706  19.1650 2021-01-25             \n",
       "1           0   7.692308  11.7000 2021-01-25             \n",
       "2           1   2.597403  11.2825 2021-01-25             \n",
       "3           0  25.000000  11.9550 2021-01-25             \n",
       "4           0  15.384615   2.4450 2021-01-25         UK  \n",
       "5           0  50.000000   4.9300 2021-01-25     Canada  \n",
       "6           0  33.333333  13.4400 2021-01-25             \n",
       "7           0  11.111111   6.0800 2021-01-25             \n",
       "8           0  33.333333   6.3800 2021-01-25  Singapore  \n",
       "9           0   0.000000   0.0000 2021-01-25             \n",
       "10          0   0.000000   0.0000 2021-01-25     Canada  \n",
       "11          0   0.000000   0.0000 2021-01-25     Canada  \n",
       "12          0   0.000000   0.0000 2021-01-25             \n",
       "13          0   0.000000   0.0000 2021-01-25         UK  \n",
       "14          0   0.000000   0.0000 2021-01-25             \n",
       "15          0   0.000000   0.0000 2021-01-25             \n",
       "16          0   0.000000   0.0000 2021-01-25             \n",
       "17          0   0.000000   0.0000 2021-01-25         UK  \n",
       "18          0   0.000000   0.0000 2021-01-25        UAE  \n",
       "19          0   0.000000   0.0000 2021-01-25     Canada  "
      ]
     },
     "execution_count": 360,
     "metadata": {},
     "output_type": "execute_result"
    }
   ],
   "source": [
    "print(ads.replace(r'^\\s*$', np.nan, regex=True))\n",
    "ads.head(20)"
   ]
  },
  {
   "cell_type": "code",
   "execution_count": 362,
   "id": "16222019",
   "metadata": {},
   "outputs": [
    {
     "data": {
      "text/plain": [
       "Campaign          0\n",
       "Ad_group          0\n",
       "Keyword_type      0\n",
       "Search_keyword    0\n",
       "Clicks            0\n",
       "Impressions       0\n",
       "Cost              0\n",
       "Leads             0\n",
       "Prospects         0\n",
       "CTR               0\n",
       "CPC               0\n",
       "Weeks             0\n",
       "Region            0\n",
       "dtype: int64"
      ]
     },
     "execution_count": 362,
     "metadata": {},
     "output_type": "execute_result"
    }
   ],
   "source": [
    "ads.isna().sum()"
   ]
  },
  {
   "cell_type": "code",
   "execution_count": 347,
   "id": "cf636176",
   "metadata": {},
   "outputs": [
    {
     "data": {
      "image/png": "[encoded data removed]",
      "text/plain": [
       "<Figure size 720x576 with 1 Axes>"
      ]
     },
     "metadata": {
      "needs_background": "light"
     },
     "output_type": "display_data"
    }
   ],
   "source": [
    "plt.rcParams[\"figure.figsize\"] = (10,8)\n",
    "ads_region = ads[[\"Region\", \"Clicks\"]]\n",
    "ads_region.groupby(\"Region\").sum().plot(kind=\"bar\") \n",
    "plt.xticks(rotation=90)\n",
    "plt.ylabel('CTR')\n",
    "plt.xlabel('Region')\n",
    "plt.show()"
   ]
  },
  {
   "cell_type": "markdown",
   "id": "efc9e9b5",
   "metadata": {},
   "source": [
    "## From the above graph we get to know that the CTR is higher in other regions when compared to 'UK', 'Singapore', 'Canada','UAE'.\n",
    "## If the Other regions can be neglected then UK stands on top when it comes to highest CTR"
   ]
  },
  {
   "cell_type": "code",
   "execution_count": 366,
   "id": "d55230c3",
   "metadata": {},
   "outputs": [
    {
     "data": {
      "image/png": "[encoded data removed]",
      "text/plain": [
       "<Figure size 720x576 with 1 Axes>"
      ]
     },
     "metadata": {
      "needs_background": "light"
     },
     "output_type": "display_data"
    }
   ],
   "source": [
    "plt.rcParams[\"figure.figsize\"] = (10,8)\n",
    "ads_region = ads[[\"Region\", \"Impressions\"]]\n",
    "ads_region.groupby(\"Region\").sum().plot(kind=\"bar\") \n",
    "plt.xticks(rotation=90)\n",
    "plt.ylabel('Impressions')\n",
    "plt.xlabel('Region')\n",
    "plt.show()"
   ]
  },
  {
   "cell_type": "markdown",
   "id": "62fb65f3",
   "metadata": {},
   "source": [
    "## Even the Other Region has a better rate on Impressions. If that is neglcted , UK still stands on the top when it comes to Impressions as well."
   ]
  },
  {
   "cell_type": "code",
   "execution_count": 368,
   "id": "e01aaab4",
   "metadata": {},
   "outputs": [],
   "source": [
    "ads.to_csv('OAIT_out.csv')"
   ]
  },
  {
   "cell_type": "code",
   "execution_count": null,
   "id": "475028c6",
   "metadata": {},
   "outputs": [],
   "source": []
  }
 ],
 "metadata": {
  "kernelspec": {
   "display_name": "Python 3",
   "language": "python",
   "name": "python3"
  },
  "language_info": {
   "codemirror_mode": {
    "name": "ipython",
    "version": 3
   },
   "file_extension": ".py",
   "mimetype": "text/x-python",
   "name": "python",
   "nbconvert_exporter": "python",
   "pygments_lexer": "ipython3",
   "version": "3.8.8"
  }
 },
 "nbformat": 4,
 "nbformat_minor": 5
}
